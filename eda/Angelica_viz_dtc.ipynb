{
 "cells": [
  {
   "cell_type": "code",
   "execution_count": 4,
   "metadata": {},
   "outputs": [],
   "source": [
    "#for importing data\n",
    "import sys\n",
    "import pathlib\n",
    "src_path = pathlib.Path().absolute().parent /\"src\"\n",
    "sys.path.append(str(src_path))\n",
    "import data_functions as dfun\n",
    "\n",
    "#import libraries\n",
    "from sklearn.preprocessing import StandardScaler\n",
    "from sklearn.neighbors import KNeighborsClassifier\n",
    "from sklearn.model_selection import GridSearchCV\n",
    "from sklearn.ensemble import RandomForestClassifier\n",
    "from sklearn.impute import SimpleImputer\n",
    "from sklearn.tree import DecisionTreeClassifier\n",
    "from sklearn.preprocessing import OneHotEncoder\n",
    "import matplotlib as plt\n",
    "import seaborn as sns\n",
    "\n",
    "from sklearn.metrics import classification_report\n",
    "from sklearn.metrics import confusion_matrix\n",
    "from sklearn.metrics import plot_confusion_matrix\n",
    "import pandas as pd\n",
    "import numpy as np\n",
    "from sklearn.model_selection import train_test_split\n",
    "\n",
    "from sklearn.linear_model import LinearRegression\n",
    "\n",
    "import seaborn as sns\n",
    "\n",
    "\n",
    "from copy import deepcopy\n",
    "\n",
    "import itertools\n",
    "\n",
    "from statistics import mean\n",
    "\n"
   ]
  },
  {
   "cell_type": "code",
   "execution_count": 5,
   "metadata": {},
   "outputs": [],
   "source": [
    "x_train, x_test, y_train = dfun.get_dataframes()"
   ]
  },
  {
   "cell_type": "code",
   "execution_count": 6,
   "metadata": {},
   "outputs": [],
   "source": [
    "x_train.drop(['date_recorded','installer','funder','wpt_name', 'subvillage','ward','recorded_by','scheme_name','scheme_management','extraction_type',\n",
    "             'extraction_type_class','payment','public_meeting','permit','management','management_group','source','source_class',\n",
    "             'waterpoint_type_group','latitude','longitude','num_private','region_code','district_code'], inplace=True, axis=1)\n",
    "\n",
    "x_test.drop(['date_recorded','installer','funder','wpt_name', 'subvillage','ward','recorded_by','scheme_name','scheme_management','extraction_type',\n",
    "             'extraction_type_class','payment','public_meeting','permit','management','management_group','source','source_class',\n",
    "             'waterpoint_type_group','latitude','longitude','num_private','region_code','district_code'], inplace=True, axis=1)"
   ]
  },
  {
   "cell_type": "code",
   "execution_count": 7,
   "metadata": {},
   "outputs": [],
   "source": [
    "x_train_nums= x_train.select_dtypes(exclude=\"object\")\n",
    "x_train_cat= x_train.select_dtypes(include=\"object\")\n",
    "ohe=OneHotEncoder(drop='first', sparse=False)\n",
    "x_train_ohe=pd.DataFrame(ohe.fit_transform(x_train_cat), columns= ohe.get_feature_names(x_train_cat.columns), index= x_train_cat.index)\n",
    "si=SimpleImputer()\n",
    "x_nums_si=pd.DataFrame(si.fit_transform(x_train_nums), index= x_train_nums.index, columns= x_train_nums.columns)\n",
    "scale= StandardScaler()\n",
    "x_train_nums_scaled= pd.DataFrame(scale.fit_transform(x_nums_si), index= x_nums_si.index, columns= x_nums_si.columns)\n",
    "x_final= x_train_nums_scaled.join(x_train_ohe)"
   ]
  },
  {
   "cell_type": "code",
   "execution_count": 8,
   "metadata": {},
   "outputs": [],
   "source": [
    "x_val, x_val_test, y_val, y_val_test= train_test_split(x_final, y_train, random_state=2020)\n",
    "\n",
    "bin_y = lambda x: 1 if x == 'functional' else 0\n",
    "y_val = y_val['status_group'].apply(bin_y)\n",
    "y_val_test = y_val_test['status_group'].apply(bin_y)\n"
   ]
  },
  {
   "cell_type": "code",
   "execution_count": 9,
   "metadata": {},
   "outputs": [],
   "source": [
    "best_random_forest = RandomForestClassifier(max_features = 100, min_samples_leaf = 5, n_estimators = 200)\n"
   ]
  },
  {
   "cell_type": "code",
   "execution_count": 10,
   "metadata": {},
   "outputs": [
    {
     "data": {
      "text/plain": [
       "RandomForestClassifier(max_features=100, min_samples_leaf=5, n_estimators=200)"
      ]
     },
     "execution_count": 10,
     "metadata": {},
     "output_type": "execute_result"
    }
   ],
   "source": [
    "best_random_forest.fit(x_val, y_val)"
   ]
  },
  {
   "cell_type": "code",
   "execution_count": 11,
   "metadata": {},
   "outputs": [],
   "source": [
    "\n",
    "feature_importance_df = pd.DataFrame(list(zip(x_val.columns, best_random_forest.feature_importances_)), columns = ['feature', 'importance'])"
   ]
  },
  {
   "cell_type": "code",
   "execution_count": 12,
   "metadata": {},
   "outputs": [
    {
     "data": {
      "text/html": [
       "<div>\n",
       "<style scoped>\n",
       "    .dataframe tbody tr th:only-of-type {\n",
       "        vertical-align: middle;\n",
       "    }\n",
       "\n",
       "    .dataframe tbody tr th {\n",
       "        vertical-align: top;\n",
       "    }\n",
       "\n",
       "    .dataframe thead th {\n",
       "        text-align: right;\n",
       "    }\n",
       "</style>\n",
       "<table border=\"1\" class=\"dataframe\">\n",
       "  <thead>\n",
       "    <tr style=\"text-align: right;\">\n",
       "      <th></th>\n",
       "      <th>feature</th>\n",
       "      <th>importance</th>\n",
       "    </tr>\n",
       "  </thead>\n",
       "  <tbody>\n",
       "    <tr>\n",
       "      <th>1</th>\n",
       "      <td>gps_height</td>\n",
       "      <td>0.095092</td>\n",
       "    </tr>\n",
       "    <tr>\n",
       "      <th>205</th>\n",
       "      <td>waterpoint_type_other</td>\n",
       "      <td>0.090786</td>\n",
       "    </tr>\n",
       "    <tr>\n",
       "      <th>3</th>\n",
       "      <td>construction_year</td>\n",
       "      <td>0.080021</td>\n",
       "    </tr>\n",
       "    <tr>\n",
       "      <th>2</th>\n",
       "      <td>population</td>\n",
       "      <td>0.058055</td>\n",
       "    </tr>\n",
       "    <tr>\n",
       "      <th>186</th>\n",
       "      <td>quantity_enough</td>\n",
       "      <td>0.045738</td>\n",
       "    </tr>\n",
       "    <tr>\n",
       "      <th>190</th>\n",
       "      <td>quantity_group_enough</td>\n",
       "      <td>0.041092</td>\n",
       "    </tr>\n",
       "    <tr>\n",
       "      <th>161</th>\n",
       "      <td>extraction_type_group_other</td>\n",
       "      <td>0.037597</td>\n",
       "    </tr>\n",
       "    <tr>\n",
       "      <th>0</th>\n",
       "      <td>amount_tsh</td>\n",
       "      <td>0.035458</td>\n",
       "    </tr>\n",
       "    <tr>\n",
       "      <th>188</th>\n",
       "      <td>quantity_seasonal</td>\n",
       "      <td>0.035408</td>\n",
       "    </tr>\n",
       "    <tr>\n",
       "      <th>192</th>\n",
       "      <td>quantity_group_seasonal</td>\n",
       "      <td>0.031308</td>\n",
       "    </tr>\n",
       "  </tbody>\n",
       "</table>\n",
       "</div>"
      ],
      "text/plain": [
       "                         feature  importance\n",
       "1                     gps_height    0.095092\n",
       "205        waterpoint_type_other    0.090786\n",
       "3              construction_year    0.080021\n",
       "2                     population    0.058055\n",
       "186              quantity_enough    0.045738\n",
       "190        quantity_group_enough    0.041092\n",
       "161  extraction_type_group_other    0.037597\n",
       "0                     amount_tsh    0.035458\n",
       "188            quantity_seasonal    0.035408\n",
       "192      quantity_group_seasonal    0.031308"
      ]
     },
     "execution_count": 12,
     "metadata": {},
     "output_type": "execute_result"
    }
   ],
   "source": [
    "feat_top10= feature_importance_df.sort_values(['importance'], ascending = False).head(10)\n",
    "feat_top10\n"
   ]
  },
  {
   "cell_type": "code",
   "execution_count": 13,
   "metadata": {},
   "outputs": [],
   "source": [
    "df_top10 = pd.DataFrame(feat_top10)\n",
    "df_top10\n",
    "csv_top10= df_top10.to_csv('top_10_feat.csv')"
   ]
  },
  {
   "cell_type": "code",
   "execution_count": 14,
   "metadata": {},
   "outputs": [
    {
     "data": {
      "image/png": "[encoded data removed]",
      "text/plain": [
       "<Figure size 432x288 with 1 Axes>"
      ]
     },
     "metadata": {},
     "output_type": "display_data"
    }
   ],
   "source": [
    "sns.set_style(style = 'whitegrid')\n",
    "ax = sns.barplot(x='importance', y ='feature', data = feat_top10)"
   ]
  },
  {
   "cell_type": "code",
   "execution_count": 15,
   "metadata": {},
   "outputs": [],
   "source": [
    "feat_top20= feature_importance_df.sort_values(['importance'], ascending = False).head(20)\n",
    "feat_top20\n",
    "df_top20 = pd.DataFrame(feat_top20)\n",
    "df_top20\n",
    "csv_top20= df_top20.to_csv('top_20_feat.csv')"
   ]
  },
  {
   "cell_type": "code",
   "execution_count": 16,
   "metadata": {},
   "outputs": [
    {
     "data": {
      "text/plain": [
       "array([[4955, 1885],\n",
       "       [ 992, 7018]])"
      ]
     },
     "execution_count": 16,
     "metadata": {},
     "output_type": "execute_result"
    }
   ],
   "source": [
    "confusion_matrix(y_val_test, best_random_forest.predict(x_val_test))\n"
   ]
  },
  {
   "cell_type": "code",
   "execution_count": 17,
   "metadata": {},
   "outputs": [
    {
     "ename": "AttributeError",
     "evalue": "module 'matplotlib' has no attribute 'savefig'",
     "output_type": "error",
     "traceback": [
      "\u001b[0;31m---------------------------------------------------------------------------\u001b[0m",
      "\u001b[0;31mAttributeError\u001b[0m                            Traceback (most recent call last)",
      "\u001b[0;32m<ipython-input-17-5ee742e9a50b>\u001b[0m in \u001b[0;36m<module>\u001b[0;34m()\u001b[0m\n\u001b[1;32m      5\u001b[0m \u001b[0;34m\u001b[0m\u001b[0m\n\u001b[1;32m      6\u001b[0m \u001b[0mcm_1\u001b[0m\u001b[0;34m.\u001b[0m\u001b[0max_\u001b[0m\u001b[0;34m.\u001b[0m\u001b[0mset_title\u001b[0m\u001b[0;34m(\u001b[0m\u001b[0;34m'Predicted v True'\u001b[0m\u001b[0;34m)\u001b[0m\u001b[0;34m;\u001b[0m\u001b[0;34m\u001b[0m\u001b[0;34m\u001b[0m\u001b[0m\n\u001b[0;32m----> 7\u001b[0;31m \u001b[0mplt\u001b[0m\u001b[0;34m.\u001b[0m\u001b[0msavefig\u001b[0m\u001b[0;34m(\u001b[0m\u001b[0;34m'confusion_matrix_1.png'\u001b[0m\u001b[0;34m,\u001b[0m \u001b[0mdpi\u001b[0m \u001b[0;34m=\u001b[0m \u001b[0;36m200\u001b[0m\u001b[0;34m)\u001b[0m\u001b[0;34m\u001b[0m\u001b[0;34m\u001b[0m\u001b[0m\n\u001b[0m",
      "\u001b[0;31mAttributeError\u001b[0m: module 'matplotlib' has no attribute 'savefig'"
     ]
    },
    {
     "data": {
      "image/png": "[encoded data removed]",
      "text/plain": [
       "<Figure size 432x288 with 2 Axes>"
      ]
     },
     "metadata": {},
     "output_type": "display_data"
    }
   ],
   "source": [
    "rf = RandomForestClassifier()\n",
    "\n",
    "cm_1= plot_confusion_matrix(best_random_forest, x_val_test,y_val_test , display_labels=['Needs Repair', 'Functional'],\n",
    "                                 cmap=plt.cm.Blues)\n",
    "\n",
    "cm_1.ax_.set_title('Predicted v True');\n",
    "plt.savefig('confusion_matrix_1.png', dpi = 200)"
   ]
  },
  {
   "cell_type": "code",
   "execution_count": 18,
   "metadata": {},
   "outputs": [
    {
     "name": "stdout",
     "output_type": "stream",
     "text": [
      "              precision    recall  f1-score   support\n",
      "\n",
      "           0       0.83      0.72      0.78      6840\n",
      "           1       0.79      0.88      0.83      8010\n",
      "\n",
      "    accuracy                           0.81     14850\n",
      "   macro avg       0.81      0.80      0.80     14850\n",
      "weighted avg       0.81      0.81      0.80     14850\n",
      "\n"
     ]
    }
   ],
   "source": [
    "\n",
    "print(classification_report(y_val_test, best_random_forest.predict(x_val_test)))"
   ]
  },
  {
   "cell_type": "code",
   "execution_count": 19,
   "metadata": {},
   "outputs": [
    {
     "data": {
      "text/plain": [
       "0.8062626262626262"
      ]
     },
     "execution_count": 19,
     "metadata": {},
     "output_type": "execute_result"
    }
   ],
   "source": [
    "best_random_forest.score(x_val_test, y_val_test)"
   ]
  },
  {
   "cell_type": "markdown",
   "metadata": {},
   "source": [
    "version 2"
   ]
  },
  {
   "cell_type": "code",
   "execution_count": 20,
   "metadata": {},
   "outputs": [],
   "source": [
    "new_best = RandomForestClassifier(max_features = 75, min_samples_leaf = 3, n_estimators = 200)"
   ]
  },
  {
   "cell_type": "code",
   "execution_count": 21,
   "metadata": {},
   "outputs": [
    {
     "data": {
      "text/plain": [
       "RandomForestClassifier(max_features=75, min_samples_leaf=3, n_estimators=200)"
      ]
     },
     "execution_count": 21,
     "metadata": {},
     "output_type": "execute_result"
    }
   ],
   "source": [
    "new_best.fit(x_val, y_val)"
   ]
  },
  {
   "cell_type": "code",
   "execution_count": 22,
   "metadata": {},
   "outputs": [
    {
     "data": {
      "text/plain": [
       "0.8088215488215488"
      ]
     },
     "execution_count": 22,
     "metadata": {},
     "output_type": "execute_result"
    }
   ],
   "source": [
    "new_best.score(x_val_test, y_val_test)"
   ]
  },
  {
   "cell_type": "code",
   "execution_count": 46,
   "metadata": {},
   "outputs": [
    {
     "data": {
      "image/png": "[encoded data removed]",
      "text/plain": [
       "<Figure size 576x576 with 2 Axes>"
      ]
     },
     "metadata": {},
     "output_type": "display_data"
    },
    {
     "data": {
      "text/plain": [
       "<Figure size 432x288 with 0 Axes>"
      ]
     },
     "metadata": {},
     "output_type": "display_data"
    }
   ],
   "source": [
    "# rf = RandomForestClassifier()\n",
    "# plt.figure()\n",
    "# cm_2= plot_confusion_matrix(best_random_forest, x_val_test,y_val_test , display_labels=['Needs Repair', 'Functional'],\n",
    "#                                  cmap=plt.cm.Blues)\n",
    "\n",
    "#cm_2.ax_.set_title('Predicted v True');\n",
    "import matplotlib.pyplot as plt\n",
    "\n",
    "\n",
    "fig, ax= plt.subplots(figsize=(8,8))\n",
    "plot_confusion_matrix(best_random_forest, x_val_test,y_val_test, \n",
    "                      display_labels=['Needs Repair', 'Functional'], ax = ax, cmap=plt.cm.Blues)\n",
    "\n",
    "\n",
    "plt.title('Predicted v. Actual', fontsize = 20)\n",
    "ax.grid(False)\n",
    "plt.xlabel('Predicted', fontsize = 18)\n",
    "plt.ylabel('Actual', fontsize = 18)\n",
    "#ax.xticklabels('Needs Repair2', Fontsize =14 )\n",
    "plt.show()\n",
    "plt.savefig('confusion_matrix_2.png', dpi = 200)\n",
    "\n",
    "#fig.suptitle('test title', fontsize=20)\n",
    "#plt.xlabel('xlabel', fontsize=18)\n",
    "#plt.ylabel('ylabel', fontsize=16)"
   ]
  },
  {
   "cell_type": "code",
   "execution_count": 27,
   "metadata": {},
   "outputs": [],
   "source": [
    "new_top20= feature_importance_df.sort_values(['importance'], ascending = False).head(20)\n",
    "new_top20\n",
    "newdf_top20 = pd.DataFrame(new_top20)\n",
    "newdf_top20\n",
    "csvnew_top20= df_top20.to_csv('new_20_feat.csv')"
   ]
  },
  {
   "cell_type": "code",
   "execution_count": null,
   "metadata": {},
   "outputs": [],
   "source": []
  }
 ],
 "metadata": {
  "kernelspec": {
   "display_name": "Python [conda env:water_well-env] *",
   "language": "python",
   "name": "conda-env-water_well-env-py"
  },
  "language_info": {
   "codemirror_mode": {
    "name": "ipython",
    "version": 3
   },
   "file_extension": ".py",
   "mimetype": "text/x-python",
   "name": "python",
   "nbconvert_exporter": "python",
   "pygments_lexer": "ipython3",
   "version": "3.6.9"
  }
 },
 "nbformat": 4,
 "nbformat_minor": 4
}
