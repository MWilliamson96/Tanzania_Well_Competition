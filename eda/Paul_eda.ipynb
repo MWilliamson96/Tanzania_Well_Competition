{
 "cells": [
  {
   "cell_type": "code",
   "execution_count": 1,
   "metadata": {},
   "outputs": [],
   "source": [
    "import sys\n",
    "import pathlib\n",
    "src_path = pathlib.Path().absolute().parent /\"src\"\n",
    "sys.path.append(str(src_path))\n",
    "import data_functions"
   ]
  },
  {
   "cell_type": "markdown",
   "metadata": {},
   "source": [
    "Our next step we split our independent variables, and our target variables. This step was not entirely necessary. Initially it was done because we had already done preliminary eda, and were attempting to work up to running a model. However we ended up doing "
   ]
  },
  {
   "cell_type": "code",
   "execution_count": 2,
   "metadata": {},
   "outputs": [],
   "source": [
    "X_train, X_test, y_train = data_functions.get_dataframes()"
   ]
  },
  {
   "cell_type": "code",
   "execution_count": 3,
   "metadata": {},
   "outputs": [
    {
     "data": {
      "text/plain": [
       "(59400, 39)"
      ]
     },
     "execution_count": 3,
     "metadata": {},
     "output_type": "execute_result"
    }
   ],
   "source": [
    "X_train.shape #taking a first look at the size of our data"
   ]
  },
  {
   "cell_type": "markdown",
   "metadata": {},
   "source": []
  },
  {
   "cell_type": "code",
   "execution_count": 4,
   "metadata": {},
   "outputs": [
    {
     "name": "stdout",
     "output_type": "stream",
     "text": [
      "amount_tsh                   0\n",
      "date_recorded                0\n",
      "funder                    3635\n",
      "gps_height                   0\n",
      "installer                 3655\n",
      "longitude                    0\n",
      "latitude                     0\n",
      "wpt_name                     0\n",
      "num_private                  0\n",
      "basin                        0\n",
      "subvillage                 371\n",
      "region                       0\n",
      "region_code                  0\n",
      "district_code                0\n",
      "lga                          0\n",
      "ward                         0\n",
      "population                   0\n",
      "public_meeting            3334\n",
      "recorded_by                  0\n",
      "scheme_management         3877\n",
      "scheme_name              28166\n",
      "permit                    3056\n",
      "construction_year            0\n",
      "extraction_type              0\n",
      "extraction_type_group        0\n",
      "extraction_type_class        0\n",
      "management                   0\n",
      "management_group             0\n",
      "payment                      0\n",
      "payment_type                 0\n",
      "water_quality                0\n",
      "quality_group                0\n",
      "quantity                     0\n",
      "quantity_group               0\n",
      "source                       0\n",
      "source_type                  0\n",
      "source_class                 0\n",
      "waterpoint_type              0\n",
      "waterpoint_type_group        0\n",
      "dtype: int64\n",
      "amount_tsh           0\n",
      "gps_height           0\n",
      "longitude            0\n",
      "latitude             0\n",
      "num_private          0\n",
      "region_code          0\n",
      "district_code        0\n",
      "population           0\n",
      "construction_year    0\n",
      "dtype: int64\n"
     ]
    }
   ],
   "source": [
    "print(X_train.isna().sum()) \n",
    "X_nums_train=X_train.select_dtypes(exclude=\"object\")\n",
    "X_cat_train= X_train.select_dtypes(include=\"object\")\n",
    "print(X_nums_train.isna().sum())\n",
    "print(X_cat_train.isna().sum())\n",
    "\n",
    "\n"
   ]
  },
  {
   "cell_type": "code",
   "execution_count": 5,
   "metadata": {},
   "outputs": [
    {
     "data": {
      "text/html": [
       "<div>\n",
       "<style scoped>\n",
       "    .dataframe tbody tr th:only-of-type {\n",
       "        vertical-align: middle;\n",
       "    }\n",
       "\n",
       "    .dataframe tbody tr th {\n",
       "        vertical-align: top;\n",
       "    }\n",
       "\n",
       "    .dataframe thead th {\n",
       "        text-align: right;\n",
       "    }\n",
       "</style>\n",
       "<table border=\"1\" class=\"dataframe\">\n",
       "  <thead>\n",
       "    <tr style=\"text-align: right;\">\n",
       "      <th></th>\n",
       "      <th>amount_tsh</th>\n",
       "      <th>date_recorded</th>\n",
       "      <th>funder</th>\n",
       "      <th>gps_height</th>\n",
       "      <th>installer</th>\n",
       "      <th>longitude</th>\n",
       "      <th>latitude</th>\n",
       "      <th>wpt_name</th>\n",
       "      <th>num_private</th>\n",
       "      <th>basin</th>\n",
       "      <th>...</th>\n",
       "      <th>payment_type</th>\n",
       "      <th>water_quality</th>\n",
       "      <th>quality_group</th>\n",
       "      <th>quantity</th>\n",
       "      <th>quantity_group</th>\n",
       "      <th>source</th>\n",
       "      <th>source_type</th>\n",
       "      <th>source_class</th>\n",
       "      <th>waterpoint_type</th>\n",
       "      <th>waterpoint_type_group</th>\n",
       "    </tr>\n",
       "    <tr>\n",
       "      <th>id</th>\n",
       "      <th></th>\n",
       "      <th></th>\n",
       "      <th></th>\n",
       "      <th></th>\n",
       "      <th></th>\n",
       "      <th></th>\n",
       "      <th></th>\n",
       "      <th></th>\n",
       "      <th></th>\n",
       "      <th></th>\n",
       "      <th></th>\n",
       "      <th></th>\n",
       "      <th></th>\n",
       "      <th></th>\n",
       "      <th></th>\n",
       "      <th></th>\n",
       "      <th></th>\n",
       "      <th></th>\n",
       "      <th></th>\n",
       "      <th></th>\n",
       "      <th></th>\n",
       "    </tr>\n",
       "  </thead>\n",
       "  <tbody>\n",
       "    <tr>\n",
       "      <th>41583</th>\n",
       "      <td>0.0</td>\n",
       "      <td>2011-02-23</td>\n",
       "      <td>NaN</td>\n",
       "      <td>-41</td>\n",
       "      <td>NaN</td>\n",
       "      <td>39.812912</td>\n",
       "      <td>-7.889986</td>\n",
       "      <td>Msikitini Wa Ijumaa</td>\n",
       "      <td>0</td>\n",
       "      <td>Rufiji</td>\n",
       "      <td>...</td>\n",
       "      <td>never pay</td>\n",
       "      <td>salty</td>\n",
       "      <td>salty</td>\n",
       "      <td>enough</td>\n",
       "      <td>enough</td>\n",
       "      <td>shallow well</td>\n",
       "      <td>shallow well</td>\n",
       "      <td>groundwater</td>\n",
       "      <td>hand pump</td>\n",
       "      <td>hand pump</td>\n",
       "    </tr>\n",
       "    <tr>\n",
       "      <th>19282</th>\n",
       "      <td>0.0</td>\n",
       "      <td>2013-01-15</td>\n",
       "      <td>NaN</td>\n",
       "      <td>1642</td>\n",
       "      <td>NaN</td>\n",
       "      <td>34.967789</td>\n",
       "      <td>-4.628921</td>\n",
       "      <td>Mvae Primary</td>\n",
       "      <td>0</td>\n",
       "      <td>Internal</td>\n",
       "      <td>...</td>\n",
       "      <td>unknown</td>\n",
       "      <td>unknown</td>\n",
       "      <td>unknown</td>\n",
       "      <td>dry</td>\n",
       "      <td>dry</td>\n",
       "      <td>machine dbh</td>\n",
       "      <td>borehole</td>\n",
       "      <td>groundwater</td>\n",
       "      <td>communal standpipe</td>\n",
       "      <td>communal standpipe</td>\n",
       "    </tr>\n",
       "    <tr>\n",
       "      <th>13620</th>\n",
       "      <td>0.0</td>\n",
       "      <td>2011-07-27</td>\n",
       "      <td>NaN</td>\n",
       "      <td>0</td>\n",
       "      <td>NaN</td>\n",
       "      <td>33.540607</td>\n",
       "      <td>-9.172905</td>\n",
       "      <td>Mahakamani</td>\n",
       "      <td>0</td>\n",
       "      <td>Lake Nyasa</td>\n",
       "      <td>...</td>\n",
       "      <td>never pay</td>\n",
       "      <td>soft</td>\n",
       "      <td>good</td>\n",
       "      <td>enough</td>\n",
       "      <td>enough</td>\n",
       "      <td>spring</td>\n",
       "      <td>spring</td>\n",
       "      <td>groundwater</td>\n",
       "      <td>communal standpipe</td>\n",
       "      <td>communal standpipe</td>\n",
       "    </tr>\n",
       "    <tr>\n",
       "      <th>51072</th>\n",
       "      <td>0.0</td>\n",
       "      <td>2013-02-09</td>\n",
       "      <td>NaN</td>\n",
       "      <td>1415</td>\n",
       "      <td>NaN</td>\n",
       "      <td>34.621598</td>\n",
       "      <td>-5.173136</td>\n",
       "      <td>Nyambi</td>\n",
       "      <td>0</td>\n",
       "      <td>Internal</td>\n",
       "      <td>...</td>\n",
       "      <td>unknown</td>\n",
       "      <td>unknown</td>\n",
       "      <td>unknown</td>\n",
       "      <td>dry</td>\n",
       "      <td>dry</td>\n",
       "      <td>machine dbh</td>\n",
       "      <td>borehole</td>\n",
       "      <td>groundwater</td>\n",
       "      <td>communal standpipe</td>\n",
       "      <td>communal standpipe</td>\n",
       "    </tr>\n",
       "    <tr>\n",
       "      <th>17386</th>\n",
       "      <td>0.0</td>\n",
       "      <td>2011-03-31</td>\n",
       "      <td>NaN</td>\n",
       "      <td>0</td>\n",
       "      <td>NaN</td>\n",
       "      <td>34.462228</td>\n",
       "      <td>-8.575780</td>\n",
       "      <td>Kwa Manyusi Mlilo</td>\n",
       "      <td>0</td>\n",
       "      <td>Rufiji</td>\n",
       "      <td>...</td>\n",
       "      <td>never pay</td>\n",
       "      <td>soft</td>\n",
       "      <td>good</td>\n",
       "      <td>insufficient</td>\n",
       "      <td>insufficient</td>\n",
       "      <td>river</td>\n",
       "      <td>river/lake</td>\n",
       "      <td>surface</td>\n",
       "      <td>communal standpipe</td>\n",
       "      <td>communal standpipe</td>\n",
       "    </tr>\n",
       "    <tr>\n",
       "      <th>...</th>\n",
       "      <td>...</td>\n",
       "      <td>...</td>\n",
       "      <td>...</td>\n",
       "      <td>...</td>\n",
       "      <td>...</td>\n",
       "      <td>...</td>\n",
       "      <td>...</td>\n",
       "      <td>...</td>\n",
       "      <td>...</td>\n",
       "      <td>...</td>\n",
       "      <td>...</td>\n",
       "      <td>...</td>\n",
       "      <td>...</td>\n",
       "      <td>...</td>\n",
       "      <td>...</td>\n",
       "      <td>...</td>\n",
       "      <td>...</td>\n",
       "      <td>...</td>\n",
       "      <td>...</td>\n",
       "      <td>...</td>\n",
       "      <td>...</td>\n",
       "    </tr>\n",
       "    <tr>\n",
       "      <th>46563</th>\n",
       "      <td>0.0</td>\n",
       "      <td>2013-02-19</td>\n",
       "      <td>NaN</td>\n",
       "      <td>1635</td>\n",
       "      <td>NaN</td>\n",
       "      <td>34.971841</td>\n",
       "      <td>-5.098362</td>\n",
       "      <td>Shabani</td>\n",
       "      <td>0</td>\n",
       "      <td>Internal</td>\n",
       "      <td>...</td>\n",
       "      <td>unknown</td>\n",
       "      <td>unknown</td>\n",
       "      <td>unknown</td>\n",
       "      <td>dry</td>\n",
       "      <td>dry</td>\n",
       "      <td>shallow well</td>\n",
       "      <td>shallow well</td>\n",
       "      <td>groundwater</td>\n",
       "      <td>hand pump</td>\n",
       "      <td>hand pump</td>\n",
       "    </tr>\n",
       "    <tr>\n",
       "      <th>55232</th>\n",
       "      <td>0.0</td>\n",
       "      <td>2013-02-02</td>\n",
       "      <td>NaN</td>\n",
       "      <td>1541</td>\n",
       "      <td>NaN</td>\n",
       "      <td>34.765729</td>\n",
       "      <td>-5.027725</td>\n",
       "      <td>Joshoni</td>\n",
       "      <td>0</td>\n",
       "      <td>Internal</td>\n",
       "      <td>...</td>\n",
       "      <td>never pay</td>\n",
       "      <td>soft</td>\n",
       "      <td>good</td>\n",
       "      <td>insufficient</td>\n",
       "      <td>insufficient</td>\n",
       "      <td>shallow well</td>\n",
       "      <td>shallow well</td>\n",
       "      <td>groundwater</td>\n",
       "      <td>hand pump</td>\n",
       "      <td>hand pump</td>\n",
       "    </tr>\n",
       "    <tr>\n",
       "      <th>14796</th>\n",
       "      <td>200.0</td>\n",
       "      <td>2013-01-29</td>\n",
       "      <td>NaN</td>\n",
       "      <td>1154</td>\n",
       "      <td>NaN</td>\n",
       "      <td>30.058731</td>\n",
       "      <td>-4.902633</td>\n",
       "      <td>Village Office</td>\n",
       "      <td>0</td>\n",
       "      <td>Lake Tanganyika</td>\n",
       "      <td>...</td>\n",
       "      <td>monthly</td>\n",
       "      <td>unknown</td>\n",
       "      <td>unknown</td>\n",
       "      <td>unknown</td>\n",
       "      <td>unknown</td>\n",
       "      <td>unknown</td>\n",
       "      <td>other</td>\n",
       "      <td>unknown</td>\n",
       "      <td>other</td>\n",
       "      <td>other</td>\n",
       "    </tr>\n",
       "    <tr>\n",
       "      <th>34716</th>\n",
       "      <td>0.0</td>\n",
       "      <td>2013-02-03</td>\n",
       "      <td>NaN</td>\n",
       "      <td>1581</td>\n",
       "      <td>NaN</td>\n",
       "      <td>34.821039</td>\n",
       "      <td>-5.076258</td>\n",
       "      <td>Nasingo</td>\n",
       "      <td>0</td>\n",
       "      <td>Internal</td>\n",
       "      <td>...</td>\n",
       "      <td>unknown</td>\n",
       "      <td>unknown</td>\n",
       "      <td>unknown</td>\n",
       "      <td>dry</td>\n",
       "      <td>dry</td>\n",
       "      <td>shallow well</td>\n",
       "      <td>shallow well</td>\n",
       "      <td>groundwater</td>\n",
       "      <td>other</td>\n",
       "      <td>other</td>\n",
       "    </tr>\n",
       "    <tr>\n",
       "      <th>37057</th>\n",
       "      <td>0.0</td>\n",
       "      <td>2011-04-11</td>\n",
       "      <td>NaN</td>\n",
       "      <td>0</td>\n",
       "      <td>NaN</td>\n",
       "      <td>34.017087</td>\n",
       "      <td>-8.750434</td>\n",
       "      <td>Mashine</td>\n",
       "      <td>0</td>\n",
       "      <td>Rufiji</td>\n",
       "      <td>...</td>\n",
       "      <td>monthly</td>\n",
       "      <td>fluoride</td>\n",
       "      <td>fluoride</td>\n",
       "      <td>enough</td>\n",
       "      <td>enough</td>\n",
       "      <td>machine dbh</td>\n",
       "      <td>borehole</td>\n",
       "      <td>groundwater</td>\n",
       "      <td>hand pump</td>\n",
       "      <td>hand pump</td>\n",
       "    </tr>\n",
       "  </tbody>\n",
       "</table>\n",
       "<p>3582 rows × 39 columns</p>\n",
       "</div>"
      ],
      "text/plain": [
       "       amount_tsh date_recorded funder  gps_height installer  longitude  \\\n",
       "id                                                                        \n",
       "41583         0.0    2011-02-23    NaN         -41       NaN  39.812912   \n",
       "19282         0.0    2013-01-15    NaN        1642       NaN  34.967789   \n",
       "13620         0.0    2011-07-27    NaN           0       NaN  33.540607   \n",
       "51072         0.0    2013-02-09    NaN        1415       NaN  34.621598   \n",
       "17386         0.0    2011-03-31    NaN           0       NaN  34.462228   \n",
       "...           ...           ...    ...         ...       ...        ...   \n",
       "46563         0.0    2013-02-19    NaN        1635       NaN  34.971841   \n",
       "55232         0.0    2013-02-02    NaN        1541       NaN  34.765729   \n",
       "14796       200.0    2013-01-29    NaN        1154       NaN  30.058731   \n",
       "34716         0.0    2013-02-03    NaN        1581       NaN  34.821039   \n",
       "37057         0.0    2011-04-11    NaN           0       NaN  34.017087   \n",
       "\n",
       "       latitude             wpt_name  num_private            basin  ...  \\\n",
       "id                                                                  ...   \n",
       "41583 -7.889986  Msikitini Wa Ijumaa            0           Rufiji  ...   \n",
       "19282 -4.628921         Mvae Primary            0         Internal  ...   \n",
       "13620 -9.172905           Mahakamani            0       Lake Nyasa  ...   \n",
       "51072 -5.173136               Nyambi            0         Internal  ...   \n",
       "17386 -8.575780    Kwa Manyusi Mlilo            0           Rufiji  ...   \n",
       "...         ...                  ...          ...              ...  ...   \n",
       "46563 -5.098362              Shabani            0         Internal  ...   \n",
       "55232 -5.027725              Joshoni            0         Internal  ...   \n",
       "14796 -4.902633       Village Office            0  Lake Tanganyika  ...   \n",
       "34716 -5.076258              Nasingo            0         Internal  ...   \n",
       "37057 -8.750434              Mashine            0           Rufiji  ...   \n",
       "\n",
       "      payment_type water_quality  quality_group      quantity quantity_group  \\\n",
       "id                                                                             \n",
       "41583    never pay         salty          salty        enough         enough   \n",
       "19282      unknown       unknown        unknown           dry            dry   \n",
       "13620    never pay          soft           good        enough         enough   \n",
       "51072      unknown       unknown        unknown           dry            dry   \n",
       "17386    never pay          soft           good  insufficient   insufficient   \n",
       "...            ...           ...            ...           ...            ...   \n",
       "46563      unknown       unknown        unknown           dry            dry   \n",
       "55232    never pay          soft           good  insufficient   insufficient   \n",
       "14796      monthly       unknown        unknown       unknown        unknown   \n",
       "34716      unknown       unknown        unknown           dry            dry   \n",
       "37057      monthly      fluoride       fluoride        enough         enough   \n",
       "\n",
       "             source   source_type source_class     waterpoint_type  \\\n",
       "id                                                                   \n",
       "41583  shallow well  shallow well  groundwater           hand pump   \n",
       "19282   machine dbh      borehole  groundwater  communal standpipe   \n",
       "13620        spring        spring  groundwater  communal standpipe   \n",
       "51072   machine dbh      borehole  groundwater  communal standpipe   \n",
       "17386         river    river/lake      surface  communal standpipe   \n",
       "...             ...           ...          ...                 ...   \n",
       "46563  shallow well  shallow well  groundwater           hand pump   \n",
       "55232  shallow well  shallow well  groundwater           hand pump   \n",
       "14796       unknown         other      unknown               other   \n",
       "34716  shallow well  shallow well  groundwater               other   \n",
       "37057   machine dbh      borehole  groundwater           hand pump   \n",
       "\n",
       "      waterpoint_type_group  \n",
       "id                           \n",
       "41583             hand pump  \n",
       "19282    communal standpipe  \n",
       "13620    communal standpipe  \n",
       "51072    communal standpipe  \n",
       "17386    communal standpipe  \n",
       "...                     ...  \n",
       "46563             hand pump  \n",
       "55232             hand pump  \n",
       "14796                 other  \n",
       "34716                 other  \n",
       "37057             hand pump  \n",
       "\n",
       "[3582 rows x 39 columns]"
      ]
     },
     "execution_count": 5,
     "metadata": {},
     "output_type": "execute_result"
    }
   ],
   "source": [
    "X_train[X_train['funder'].isna() & X_train['installer'].isna()]\n"
   ]
  },
  {
   "cell_type": "code",
   "execution_count": 6,
   "metadata": {},
   "outputs": [
    {
     "data": {
      "text/plain": [
       "K                          682\n",
       "None                       644\n",
       "Borehole                   546\n",
       "Chalinze wate              405\n",
       "M                          400\n",
       "                          ... \n",
       "World Bank Water Supply      1\n",
       "Mradi wa maji wa izia        1\n",
       "Samunge water scheme         1\n",
       "BL Kyongwa                   1\n",
       "BL Majengo                   1\n",
       "Name: scheme_name, Length: 2696, dtype: int64"
      ]
     },
     "execution_count": 6,
     "metadata": {},
     "output_type": "execute_result"
    }
   ],
   "source": [
    "X_train.scheme_name.value_counts()"
   ]
  },
  {
   "cell_type": "code",
   "execution_count": 7,
   "metadata": {},
   "outputs": [
    {
     "name": "stdout",
     "output_type": "stream",
     "text": [
      "date_recorded 356\n",
      "funder 1898\n",
      "installer 2146\n",
      "wpt_name 37400\n",
      "basin 9\n",
      "subvillage 19288\n",
      "region 21\n",
      "lga 125\n",
      "ward 2092\n",
      "public_meeting 3\n",
      "recorded_by 1\n",
      "scheme_management 13\n",
      "scheme_name 2697\n",
      "permit 3\n",
      "extraction_type 18\n",
      "extraction_type_group 13\n",
      "extraction_type_class 7\n",
      "management 12\n",
      "management_group 5\n",
      "payment 7\n",
      "payment_type 7\n",
      "water_quality 8\n",
      "quality_group 6\n",
      "quantity 5\n",
      "quantity_group 5\n",
      "source 10\n",
      "source_type 7\n",
      "source_class 3\n",
      "waterpoint_type 7\n",
      "waterpoint_type_group 6\n"
     ]
    }
   ],
   "source": [
    "for col_name in X_cat_train.columns:\n",
    "    if X_cat_train[col_name].dtypes =='object':\n",
    "        unique_cat= len(X_cat_train[col_name].unique())\n",
    "        print(col_name, unique_cat)"
   ]
  },
  {
   "cell_type": "code",
   "execution_count": 8,
   "metadata": {},
   "outputs": [
    {
     "data": {
      "text/plain": [
       "soft                  50818\n",
       "salty                  4856\n",
       "unknown                1876\n",
       "milky                   804\n",
       "coloured                490\n",
       "salty abandoned         339\n",
       "fluoride                200\n",
       "fluoride abandoned       17\n",
       "Name: water_quality, dtype: int64"
      ]
     },
     "execution_count": 8,
     "metadata": {},
     "output_type": "execute_result"
    }
   ],
   "source": [
    "X_cat_train['water_quality'].value_counts()"
   ]
  },
  {
   "cell_type": "code",
   "execution_count": 9,
   "metadata": {},
   "outputs": [
    {
     "data": {
      "text/plain": [
       "good        50818\n",
       "salty        5195\n",
       "unknown      1876\n",
       "milky         804\n",
       "colored       490\n",
       "fluoride      217\n",
       "Name: quality_group, dtype: int64"
      ]
     },
     "execution_count": 9,
     "metadata": {},
     "output_type": "execute_result"
    }
   ],
   "source": [
    "X_cat_train['quality_group'].value_counts()"
   ]
  },
  {
   "cell_type": "code",
   "execution_count": 10,
   "metadata": {},
   "outputs": [
    {
     "data": {
      "text/plain": [
       "functional                 32259\n",
       "non functional             22824\n",
       "functional needs repair     4317\n",
       "Name: status_group, dtype: int64"
      ]
     },
     "execution_count": 10,
     "metadata": {},
     "output_type": "execute_result"
    }
   ],
   "source": [
    "y_train.status_group.value_counts()"
   ]
  },
  {
   "cell_type": "code",
   "execution_count": 11,
   "metadata": {},
   "outputs": [
    {
     "name": "stdout",
     "output_type": "stream",
     "text": [
      "30\n"
     ]
    }
   ],
   "source": [
    "print(len(X_cat_train.columns))"
   ]
  },
  {
   "cell_type": "code",
   "execution_count": 12,
   "metadata": {},
   "outputs": [
    {
     "data": {
      "text/plain": [
       "DWE                      17402\n",
       "Government                1825\n",
       "RWE                       1206\n",
       "Commu                     1060\n",
       "DANIDA                    1050\n",
       "                         ...  \n",
       "CALTAZ KAHAMA                1\n",
       "WORLD NK                     1\n",
       "TLC/Seleman Mang'ombe        1\n",
       "WINAMU CO                    1\n",
       "KISIRIRI ADP                 1\n",
       "Name: installer, Length: 2145, dtype: int64"
      ]
     },
     "execution_count": 12,
     "metadata": {},
     "output_type": "execute_result"
    }
   ],
   "source": [
    "X_cat_train.installer.value_counts()\n"
   ]
  },
  {
   "cell_type": "code",
   "execution_count": 13,
   "metadata": {},
   "outputs": [],
   "source": [
    "#X_cat_train['installer'].value_counts() < 3\n",
    "#X_cat_train['other']=X_cat_train[(X_cat_train['installer'].value_counts() < 3)]"
   ]
  },
  {
   "cell_type": "code",
   "execution_count": 14,
   "metadata": {},
   "outputs": [
    {
     "data": {
      "text/plain": [
       "Igosi        307\n",
       "Imalinyi     252\n",
       "Siha Kati    232\n",
       "Mdandu       231\n",
       "Nduruma      217\n",
       "            ... \n",
       "Ifinga         1\n",
       "Mawenzi        1\n",
       "Kitete         1\n",
       "Uchindile      1\n",
       "Mitole         1\n",
       "Name: ward, Length: 2092, dtype: int64"
      ]
     },
     "execution_count": 14,
     "metadata": {},
     "output_type": "execute_result"
    }
   ],
   "source": [
    "X_cat_train.ward.value_counts()"
   ]
  },
  {
   "cell_type": "code",
   "execution_count": 15,
   "metadata": {},
   "outputs": [
    {
     "data": {
      "text/plain": [
       "3334"
      ]
     },
     "execution_count": 15,
     "metadata": {},
     "output_type": "execute_result"
    }
   ],
   "source": [
    "X_cat_train.public_meeting.isna().sum()"
   ]
  },
  {
   "cell_type": "code",
   "execution_count": 16,
   "metadata": {},
   "outputs": [
    {
     "data": {
      "text/plain": [
       "spring                  17021\n",
       "shallow well            16824\n",
       "machine dbh             11075\n",
       "river                    9612\n",
       "rainwater harvesting     2295\n",
       "hand dtw                  874\n",
       "lake                      765\n",
       "dam                       656\n",
       "other                     212\n",
       "unknown                    66\n",
       "Name: source, dtype: int64"
      ]
     },
     "execution_count": 16,
     "metadata": {},
     "output_type": "execute_result"
    }
   ],
   "source": [
    "X_cat_train.source.value_counts()"
   ]
  },
  {
   "cell_type": "code",
   "execution_count": 17,
   "metadata": {},
   "outputs": [
    {
     "data": {
      "text/plain": [
       "spring                  17021\n",
       "shallow well            16824\n",
       "borehole                11949\n",
       "river/lake              10377\n",
       "rainwater harvesting     2295\n",
       "dam                       656\n",
       "other                     278\n",
       "Name: source_type, dtype: int64"
      ]
     },
     "execution_count": 17,
     "metadata": {},
     "output_type": "execute_result"
    }
   ],
   "source": [
    "X_cat_train.source_type.value_counts()"
   ]
  },
  {
   "cell_type": "code",
   "execution_count": 18,
   "metadata": {},
   "outputs": [
    {
     "data": {
      "text/plain": [
       "groundwater    45794\n",
       "surface        13328\n",
       "unknown          278\n",
       "Name: source_class, dtype: int64"
      ]
     },
     "execution_count": 18,
     "metadata": {},
     "output_type": "execute_result"
    }
   ],
   "source": [
    "X_cat_train.source_class.value_counts()"
   ]
  },
  {
   "cell_type": "code",
   "execution_count": 19,
   "metadata": {},
   "outputs": [
    {
     "data": {
      "text/plain": [
       "Index(['amount_tsh', 'gps_height', 'longitude', 'latitude', 'num_private',\n",
       "       'region_code', 'district_code', 'population', 'construction_year'],\n",
       "      dtype='object')"
      ]
     },
     "execution_count": 19,
     "metadata": {},
     "output_type": "execute_result"
    }
   ],
   "source": [
    "X_nums_train.columns"
   ]
  },
  {
   "cell_type": "code",
   "execution_count": 20,
   "metadata": {},
   "outputs": [
    {
     "data": {
      "text/plain": [
       "28164"
      ]
     },
     "execution_count": 20,
     "metadata": {},
     "output_type": "execute_result"
    }
   ],
   "source": [
    "sum(X_nums_train.num_private)"
   ]
  },
  {
   "cell_type": "code",
   "execution_count": 21,
   "metadata": {},
   "outputs": [
    {
     "data": {
      "text/plain": [
       "array([ 5,  2,  4, 63,  1,  8,  3,  6, 43,  7, 23, 33, 53, 62, 60, 30, 13,\n",
       "        0, 80, 67], dtype=int64)"
      ]
     },
     "execution_count": 21,
     "metadata": {},
     "output_type": "execute_result"
    }
   ],
   "source": [
    "X_nums_train.district_code.unique()"
   ]
  },
  {
   "cell_type": "code",
   "execution_count": 22,
   "metadata": {},
   "outputs": [
    {
     "data": {
      "text/plain": [
       "Index(['date_recorded', 'funder', 'installer', 'wpt_name', 'basin',\n",
       "       'subvillage', 'region', 'lga', 'ward', 'public_meeting', 'recorded_by',\n",
       "       'scheme_management', 'scheme_name', 'permit', 'extraction_type',\n",
       "       'extraction_type_group', 'extraction_type_class', 'management',\n",
       "       'management_group', 'payment', 'payment_type', 'water_quality',\n",
       "       'quality_group', 'quantity', 'quantity_group', 'source', 'source_type',\n",
       "       'source_class', 'waterpoint_type', 'waterpoint_type_group'],\n",
       "      dtype='object')"
      ]
     },
     "execution_count": 22,
     "metadata": {},
     "output_type": "execute_result"
    }
   ],
   "source": [
    "X_cat_train.columns"
   ]
  },
  {
   "cell_type": "code",
   "execution_count": 23,
   "metadata": {},
   "outputs": [
    {
     "data": {
      "text/plain": [
       "VWC                 36793\n",
       "WUG                  5206\n",
       "Water authority      3153\n",
       "WUA                  2883\n",
       "Water Board          2748\n",
       "Parastatal           1680\n",
       "Private operator     1063\n",
       "Company              1061\n",
       "Other                 766\n",
       "SWC                    97\n",
       "Trust                  72\n",
       "None                    1\n",
       "Name: scheme_management, dtype: int64"
      ]
     },
     "execution_count": 23,
     "metadata": {},
     "output_type": "execute_result"
    }
   ],
   "source": [
    "X_cat_train.scheme_management.value_counts()"
   ]
  },
  {
   "cell_type": "code",
   "execution_count": 24,
   "metadata": {},
   "outputs": [
    {
     "data": {
      "text/plain": [
       "Index(['amount_tsh', 'date_recorded', 'funder', 'gps_height', 'installer',\n",
       "       'longitude', 'latitude', 'wpt_name', 'num_private', 'basin',\n",
       "       'subvillage', 'region', 'region_code', 'district_code', 'lga', 'ward',\n",
       "       'population', 'public_meeting', 'recorded_by', 'scheme_management',\n",
       "       'scheme_name', 'permit', 'construction_year', 'extraction_type',\n",
       "       'extraction_type_group', 'extraction_type_class', 'management',\n",
       "       'management_group', 'payment', 'payment_type', 'water_quality',\n",
       "       'quality_group', 'quantity', 'quantity_group', 'source', 'source_type',\n",
       "       'source_class', 'waterpoint_type', 'waterpoint_type_group'],\n",
       "      dtype='object')"
      ]
     },
     "execution_count": 24,
     "metadata": {},
     "output_type": "execute_result"
    }
   ],
   "source": [
    "X_train.columns"
   ]
  },
  {
   "cell_type": "code",
   "execution_count": 25,
   "metadata": {},
   "outputs": [],
   "source": [
    "X_train_strict_feat = X_train.drop(['date_recorded','funder','wpt_name', 'subvillage','ward','recorded_by','scheme_name','scheme_management','extraction_type',\n",
    "             'extraction_type_class','payment','public_meeting','permit','management','management_group','source','source_class',\n",
    "             'waterpoint_type_group','latitude','longitude','num_private','region_code','district_code'], axis=1)\n",
    "\n",
    "\n",
    "X_train_loose_feat=X_train.drop(['date_recorded','funder','installer','wpt_name', 'subvillage','recorded_by','scheme_name','extraction_type',\n",
    "             'extraction_type_class','payment','management','management_group','source_class',\n",
    "             'waterpoint_type_group','latitude','longitude','num_private','region_code','district_code'], axis=1)\n",
    "\n"
   ]
  },
  {
   "cell_type": "code",
   "execution_count": 26,
   "metadata": {},
   "outputs": [],
   "source": [
    "from sklearn.preprocessing import StandardScaler\n",
    "from sklearn.neighbors import KNeighborsClassifier\n",
    "from sklearn.model_selection import GridSearchCV\n",
    "from sklearn.ensemble import RandomForestClassifier\n",
    "from sklearn.pipeline import Pipeline"
   ]
  },
  {
   "cell_type": "code",
   "execution_count": 27,
   "metadata": {},
   "outputs": [],
   "source": [
    "from sklearn.impute import SimpleImputer"
   ]
  },
  {
   "cell_type": "code",
   "execution_count": 28,
   "metadata": {},
   "outputs": [],
   "source": [
    "from sklearn.tree import DecisionTreeClassifier\n",
    "from sklearn.preprocessing import OneHotEncoder"
   ]
  },
  {
   "cell_type": "code",
   "execution_count": 29,
   "metadata": {},
   "outputs": [],
   "source": [
    "import seaborn as sns\n"
   ]
  },
  {
   "cell_type": "code",
   "execution_count": 33,
   "metadata": {},
   "outputs": [
    {
     "data": {
      "text/plain": [
       "<matplotlib.axes._subplots.AxesSubplot at 0x1b626062bb0>"
      ]
     },
     "execution_count": 33,
     "metadata": {},
     "output_type": "execute_result"
    },
    {
     "data": {
      "image/png": "[encoded data removed]",
      "text/plain": [
       "<Figure size 432x288 with 1 Axes>"
      ]
     },
     "metadata": {
      "needs_background": "light"
     },
     "output_type": "display_data"
    }
   ],
   "source": [
    "sns.distplot(X_cat_train['installer'].value_counts())\n"
   ]
  },
  {
   "cell_type": "code",
   "execution_count": null,
   "metadata": {},
   "outputs": [],
   "source": [
    "X_train_strict_feat"
   ]
  },
  {
   "cell_type": "code",
   "execution_count": null,
   "metadata": {},
   "outputs": [],
   "source": [
    "scaled_pipeline_KNN= Pipeline([('si',SimpleImputer()),\n",
    "                               ('ss', StandardScaler()),\n",
    "                              ('dt',DecisionTreeClassifier())])\n",
    "scaled_pipeline_1.fit()"
   ]
  }
 ],
 "metadata": {
  "kernelspec": {
   "display_name": "Python 3",
   "language": "python",
   "name": "python3"
  },
  "language_info": {
   "codemirror_mode": {
    "name": "ipython",
    "version": 3
   },
   "file_extension": ".py",
   "mimetype": "text/x-python",
   "name": "python",
   "nbconvert_exporter": "python",
   "pygments_lexer": "ipython3",
   "version": "3.8.3"
  }
 },
 "nbformat": 4,
 "nbformat_minor": 4
}
