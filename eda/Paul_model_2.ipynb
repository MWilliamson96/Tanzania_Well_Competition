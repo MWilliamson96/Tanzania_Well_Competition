{
 "cells": [
  {
   "cell_type": "code",
   "execution_count": 1,
   "metadata": {},
   "outputs": [],
   "source": [
    "import sys\n",
    "import pathlib\n",
    "src_path = pathlib.Path().absolute().parent /\"src\"\n",
    "sys.path.append(str(src_path))\n",
    "import data_functions\n",
    "from sklearn.preprocessing import StandardScaler\n",
    "from sklearn.neighbors import KNeighborsClassifier\n",
    "from sklearn.model_selection import GridSearchCV\n",
    "from sklearn.ensemble import RandomForestClassifier\n",
    "from sklearn.pipeline import Pipeline\n",
    "from sklearn.impute import SimpleImputer\n",
    "from sklearn.tree import DecisionTreeClassifier\n",
    "from sklearn.preprocessing import OneHotEncoder\n",
    "import seaborn as sns\n",
    "import pickle\n",
    "from sklearn.metrics import classification_report\n",
    "import pandas as pd\n",
    "import numpy as np\n",
    "from sklearn.model_selection import train_test_split"
   ]
  },
  {
   "cell_type": "code",
   "execution_count": 2,
   "metadata": {},
   "outputs": [],
   "source": [
    "x_train, x_test, y_train = data_functions.get_dataframes()"
   ]
  },
  {
   "cell_type": "code",
   "execution_count": null,
   "metadata": {},
   "outputs": [],
   "source": [
    "\n"
   ]
  },
  {
   "cell_type": "code",
   "execution_count": 3,
   "metadata": {},
   "outputs": [],
   "source": [
    "#x_train.drop([\"wpt_name\", \"date_recorded\", \"funder\",'recorded_by', \"installer\", \"subvillage\", \"public_meeting\", \"scheme_management\",'num_private', \"scheme_name\",'extraction_type','extraction_type_class', \"permit\"], axis=1, inplace= True)"
   ]
  },
  {
   "cell_type": "code",
   "execution_count": 4,
   "metadata": {},
   "outputs": [],
   "source": [
    "#x_train.head()"
   ]
  },
  {
   "cell_type": "code",
   "execution_count": 5,
   "metadata": {},
   "outputs": [],
   "source": [
    "x_train.drop(['date_recorded','installer','funder','wpt_name', 'subvillage','ward','recorded_by','scheme_name','scheme_management','extraction_type',\n",
    "             'extraction_type_class','payment','public_meeting','permit','management','management_group','source','source_class',\n",
    "             'waterpoint_type_group','latitude','longitude','num_private','region_code','district_code'], inplace=True, axis=1)\n",
    "\n",
    "x_test.drop(['date_recorded','installer','funder','wpt_name', 'subvillage','ward','recorded_by','scheme_name','scheme_management','extraction_type',\n",
    "             'extraction_type_class','payment','public_meeting','permit','management','management_group','source','source_class',\n",
    "             'waterpoint_type_group','latitude','longitude','num_private','region_code','district_code'], inplace=True, axis=1)"
   ]
  },
  {
   "cell_type": "code",
   "execution_count": 6,
   "metadata": {},
   "outputs": [],
   "source": [
    "x_train_nums= x_train.select_dtypes(exclude=\"object\")\n",
    "x_train_cat= x_train.select_dtypes(include=\"object\")"
   ]
  },
  {
   "cell_type": "code",
   "execution_count": 7,
   "metadata": {},
   "outputs": [
    {
     "data": {
      "text/plain": [
       "(59400, 11)"
      ]
     },
     "execution_count": 7,
     "metadata": {},
     "output_type": "execute_result"
    }
   ],
   "source": [
    "x_train_cat.shape"
   ]
  },
  {
   "cell_type": "code",
   "execution_count": 8,
   "metadata": {},
   "outputs": [
    {
     "data": {
      "text/plain": [
       "basin                    0\n",
       "region                   0\n",
       "lga                      0\n",
       "extraction_type_group    0\n",
       "payment_type             0\n",
       "water_quality            0\n",
       "quality_group            0\n",
       "quantity                 0\n",
       "quantity_group           0\n",
       "source_type              0\n",
       "waterpoint_type          0\n",
       "dtype: int64"
      ]
     },
     "execution_count": 8,
     "metadata": {},
     "output_type": "execute_result"
    }
   ],
   "source": [
    "x_train_cat.isna().sum()"
   ]
  },
  {
   "cell_type": "code",
   "execution_count": 9,
   "metadata": {},
   "outputs": [],
   "source": [
    "#si=SimpleImputer()\n",
    "#x_train_cat_si= pd.DataFrame(si.fit_transform(x_train_cat), index=x_train_cat.index, columns=x_train_cat.columns)\n",
    "#x_train_cat_si\n"
   ]
  },
  {
   "cell_type": "code",
   "execution_count": 10,
   "metadata": {},
   "outputs": [],
   "source": [
    "ohe=OneHotEncoder(sparse= False)"
   ]
  },
  {
   "cell_type": "code",
   "execution_count": 11,
   "metadata": {},
   "outputs": [
    {
     "data": {
      "text/plain": [
       "0"
      ]
     },
     "execution_count": 11,
     "metadata": {},
     "output_type": "execute_result"
    }
   ],
   "source": [
    "x_train_ohe=pd.DataFrame(ohe.fit_transform(x_train_cat), columns= ohe.get_feature_names(x_train_cat.columns), index= x_train_cat.index)\n",
    "sum(x_train_ohe.isna().sum())"
   ]
  },
  {
   "cell_type": "code",
   "execution_count": 12,
   "metadata": {},
   "outputs": [
    {
     "data": {
      "text/plain": [
       "(59400, 213)"
      ]
     },
     "execution_count": 12,
     "metadata": {},
     "output_type": "execute_result"
    }
   ],
   "source": [
    "x_train_ohe.shape"
   ]
  },
  {
   "cell_type": "code",
   "execution_count": 13,
   "metadata": {},
   "outputs": [
    {
     "data": {
      "text/plain": [
       "id\n",
       "69572    1999\n",
       "8776     2010\n",
       "34310    2009\n",
       "67743    1986\n",
       "19728       0\n",
       "Name: construction_year, dtype: int64"
      ]
     },
     "execution_count": 13,
     "metadata": {},
     "output_type": "execute_result"
    }
   ],
   "source": [
    "x_train_nums['construction_year'].head()"
   ]
  },
  {
   "cell_type": "code",
   "execution_count": 14,
   "metadata": {},
   "outputs": [
    {
     "data": {
      "text/plain": [
       "pandas.core.series.Series"
      ]
     },
     "execution_count": 14,
     "metadata": {},
     "output_type": "execute_result"
    }
   ],
   "source": [
    "type(x_train_nums['construction_year'])"
   ]
  },
  {
   "cell_type": "code",
   "execution_count": 15,
   "metadata": {},
   "outputs": [],
   "source": [
    "si=SimpleImputer()\n",
    "x_nums_si=pd.DataFrame(si.fit_transform(x_train_nums), index= x_train_nums.index, columns= x_train_nums.columns)"
   ]
  },
  {
   "cell_type": "code",
   "execution_count": 16,
   "metadata": {},
   "outputs": [],
   "source": [
    "scale= StandardScaler()\n",
    "x_train_nums_scaled= pd.DataFrame(scale.fit_transform(x_nums_si), index= x_nums_si.index, columns= x_nums_si.columns)"
   ]
  },
  {
   "cell_type": "code",
   "execution_count": 17,
   "metadata": {},
   "outputs": [],
   "source": [
    "x_final= x_train_nums_scaled.join(x_train_ohe)"
   ]
  },
  {
   "cell_type": "code",
   "execution_count": 18,
   "metadata": {
    "scrolled": true
   },
   "outputs": [
    {
     "data": {
      "text/html": [
       "<div>\n",
       "<style scoped>\n",
       "    .dataframe tbody tr th:only-of-type {\n",
       "        vertical-align: middle;\n",
       "    }\n",
       "\n",
       "    .dataframe tbody tr th {\n",
       "        vertical-align: top;\n",
       "    }\n",
       "\n",
       "    .dataframe thead th {\n",
       "        text-align: right;\n",
       "    }\n",
       "</style>\n",
       "<table border=\"1\" class=\"dataframe\">\n",
       "  <thead>\n",
       "    <tr style=\"text-align: right;\">\n",
       "      <th></th>\n",
       "      <th>amount_tsh</th>\n",
       "      <th>gps_height</th>\n",
       "      <th>population</th>\n",
       "      <th>construction_year</th>\n",
       "      <th>basin_Internal</th>\n",
       "      <th>basin_Lake Nyasa</th>\n",
       "      <th>basin_Lake Rukwa</th>\n",
       "      <th>basin_Lake Tanganyika</th>\n",
       "      <th>basin_Lake Victoria</th>\n",
       "      <th>basin_Pangani</th>\n",
       "      <th>...</th>\n",
       "      <th>source_type_river/lake</th>\n",
       "      <th>source_type_shallow well</th>\n",
       "      <th>source_type_spring</th>\n",
       "      <th>waterpoint_type_cattle trough</th>\n",
       "      <th>waterpoint_type_communal standpipe</th>\n",
       "      <th>waterpoint_type_communal standpipe multiple</th>\n",
       "      <th>waterpoint_type_dam</th>\n",
       "      <th>waterpoint_type_hand pump</th>\n",
       "      <th>waterpoint_type_improved spring</th>\n",
       "      <th>waterpoint_type_other</th>\n",
       "    </tr>\n",
       "    <tr>\n",
       "      <th>id</th>\n",
       "      <th></th>\n",
       "      <th></th>\n",
       "      <th></th>\n",
       "      <th></th>\n",
       "      <th></th>\n",
       "      <th></th>\n",
       "      <th></th>\n",
       "      <th></th>\n",
       "      <th></th>\n",
       "      <th></th>\n",
       "      <th></th>\n",
       "      <th></th>\n",
       "      <th></th>\n",
       "      <th></th>\n",
       "      <th></th>\n",
       "      <th></th>\n",
       "      <th></th>\n",
       "      <th></th>\n",
       "      <th></th>\n",
       "      <th></th>\n",
       "      <th></th>\n",
       "    </tr>\n",
       "  </thead>\n",
       "  <tbody>\n",
       "    <tr>\n",
       "      <th>69572</th>\n",
       "      <td>1.895665</td>\n",
       "      <td>1.041252</td>\n",
       "      <td>-0.150399</td>\n",
       "      <td>0.733857</td>\n",
       "      <td>0.0</td>\n",
       "      <td>1.0</td>\n",
       "      <td>0.0</td>\n",
       "      <td>0.0</td>\n",
       "      <td>0.0</td>\n",
       "      <td>0.0</td>\n",
       "      <td>...</td>\n",
       "      <td>0.0</td>\n",
       "      <td>0.0</td>\n",
       "      <td>1.0</td>\n",
       "      <td>0.0</td>\n",
       "      <td>1.0</td>\n",
       "      <td>0.0</td>\n",
       "      <td>0.0</td>\n",
       "      <td>0.0</td>\n",
       "      <td>0.0</td>\n",
       "      <td>0.0</td>\n",
       "    </tr>\n",
       "    <tr>\n",
       "      <th>8776</th>\n",
       "      <td>-0.105970</td>\n",
       "      <td>1.054237</td>\n",
       "      <td>0.212290</td>\n",
       "      <td>0.745416</td>\n",
       "      <td>0.0</td>\n",
       "      <td>0.0</td>\n",
       "      <td>0.0</td>\n",
       "      <td>0.0</td>\n",
       "      <td>1.0</td>\n",
       "      <td>0.0</td>\n",
       "      <td>...</td>\n",
       "      <td>0.0</td>\n",
       "      <td>0.0</td>\n",
       "      <td>0.0</td>\n",
       "      <td>0.0</td>\n",
       "      <td>1.0</td>\n",
       "      <td>0.0</td>\n",
       "      <td>0.0</td>\n",
       "      <td>0.0</td>\n",
       "      <td>0.0</td>\n",
       "      <td>0.0</td>\n",
       "    </tr>\n",
       "    <tr>\n",
       "      <th>34310</th>\n",
       "      <td>-0.097630</td>\n",
       "      <td>0.025541</td>\n",
       "      <td>0.148660</td>\n",
       "      <td>0.744365</td>\n",
       "      <td>0.0</td>\n",
       "      <td>0.0</td>\n",
       "      <td>0.0</td>\n",
       "      <td>0.0</td>\n",
       "      <td>0.0</td>\n",
       "      <td>1.0</td>\n",
       "      <td>...</td>\n",
       "      <td>0.0</td>\n",
       "      <td>0.0</td>\n",
       "      <td>0.0</td>\n",
       "      <td>0.0</td>\n",
       "      <td>0.0</td>\n",
       "      <td>1.0</td>\n",
       "      <td>0.0</td>\n",
       "      <td>0.0</td>\n",
       "      <td>0.0</td>\n",
       "      <td>0.0</td>\n",
       "    </tr>\n",
       "    <tr>\n",
       "      <th>67743</th>\n",
       "      <td>-0.105970</td>\n",
       "      <td>-0.584751</td>\n",
       "      <td>-0.258570</td>\n",
       "      <td>0.720196</td>\n",
       "      <td>0.0</td>\n",
       "      <td>0.0</td>\n",
       "      <td>0.0</td>\n",
       "      <td>0.0</td>\n",
       "      <td>0.0</td>\n",
       "      <td>0.0</td>\n",
       "      <td>...</td>\n",
       "      <td>0.0</td>\n",
       "      <td>0.0</td>\n",
       "      <td>0.0</td>\n",
       "      <td>0.0</td>\n",
       "      <td>0.0</td>\n",
       "      <td>1.0</td>\n",
       "      <td>0.0</td>\n",
       "      <td>0.0</td>\n",
       "      <td>0.0</td>\n",
       "      <td>0.0</td>\n",
       "    </tr>\n",
       "    <tr>\n",
       "      <th>19728</th>\n",
       "      <td>-0.105970</td>\n",
       "      <td>-0.964200</td>\n",
       "      <td>-0.381587</td>\n",
       "      <td>-1.366788</td>\n",
       "      <td>0.0</td>\n",
       "      <td>0.0</td>\n",
       "      <td>0.0</td>\n",
       "      <td>0.0</td>\n",
       "      <td>1.0</td>\n",
       "      <td>0.0</td>\n",
       "      <td>...</td>\n",
       "      <td>0.0</td>\n",
       "      <td>0.0</td>\n",
       "      <td>0.0</td>\n",
       "      <td>0.0</td>\n",
       "      <td>1.0</td>\n",
       "      <td>0.0</td>\n",
       "      <td>0.0</td>\n",
       "      <td>0.0</td>\n",
       "      <td>0.0</td>\n",
       "      <td>0.0</td>\n",
       "    </tr>\n",
       "  </tbody>\n",
       "</table>\n",
       "<p>5 rows × 217 columns</p>\n",
       "</div>"
      ],
      "text/plain": [
       "       amount_tsh  gps_height  population  construction_year  basin_Internal  \\\n",
       "id                                                                             \n",
       "69572    1.895665    1.041252   -0.150399           0.733857             0.0   \n",
       "8776    -0.105970    1.054237    0.212290           0.745416             0.0   \n",
       "34310   -0.097630    0.025541    0.148660           0.744365             0.0   \n",
       "67743   -0.105970   -0.584751   -0.258570           0.720196             0.0   \n",
       "19728   -0.105970   -0.964200   -0.381587          -1.366788             0.0   \n",
       "\n",
       "       basin_Lake Nyasa  basin_Lake Rukwa  basin_Lake Tanganyika  \\\n",
       "id                                                                 \n",
       "69572               1.0               0.0                    0.0   \n",
       "8776                0.0               0.0                    0.0   \n",
       "34310               0.0               0.0                    0.0   \n",
       "67743               0.0               0.0                    0.0   \n",
       "19728               0.0               0.0                    0.0   \n",
       "\n",
       "       basin_Lake Victoria  basin_Pangani  ...  source_type_river/lake  \\\n",
       "id                                         ...                           \n",
       "69572                  0.0            0.0  ...                     0.0   \n",
       "8776                   1.0            0.0  ...                     0.0   \n",
       "34310                  0.0            1.0  ...                     0.0   \n",
       "67743                  0.0            0.0  ...                     0.0   \n",
       "19728                  1.0            0.0  ...                     0.0   \n",
       "\n",
       "       source_type_shallow well  source_type_spring  \\\n",
       "id                                                    \n",
       "69572                       0.0                 1.0   \n",
       "8776                        0.0                 0.0   \n",
       "34310                       0.0                 0.0   \n",
       "67743                       0.0                 0.0   \n",
       "19728                       0.0                 0.0   \n",
       "\n",
       "       waterpoint_type_cattle trough  waterpoint_type_communal standpipe  \\\n",
       "id                                                                         \n",
       "69572                            0.0                                 1.0   \n",
       "8776                             0.0                                 1.0   \n",
       "34310                            0.0                                 0.0   \n",
       "67743                            0.0                                 0.0   \n",
       "19728                            0.0                                 1.0   \n",
       "\n",
       "       waterpoint_type_communal standpipe multiple  waterpoint_type_dam  \\\n",
       "id                                                                        \n",
       "69572                                          0.0                  0.0   \n",
       "8776                                           0.0                  0.0   \n",
       "34310                                          1.0                  0.0   \n",
       "67743                                          1.0                  0.0   \n",
       "19728                                          0.0                  0.0   \n",
       "\n",
       "       waterpoint_type_hand pump  waterpoint_type_improved spring  \\\n",
       "id                                                                  \n",
       "69572                        0.0                              0.0   \n",
       "8776                         0.0                              0.0   \n",
       "34310                        0.0                              0.0   \n",
       "67743                        0.0                              0.0   \n",
       "19728                        0.0                              0.0   \n",
       "\n",
       "       waterpoint_type_other  \n",
       "id                            \n",
       "69572                    0.0  \n",
       "8776                     0.0  \n",
       "34310                    0.0  \n",
       "67743                    0.0  \n",
       "19728                    0.0  \n",
       "\n",
       "[5 rows x 217 columns]"
      ]
     },
     "execution_count": 18,
     "metadata": {},
     "output_type": "execute_result"
    }
   ],
   "source": [
    "x_final.head()"
   ]
  },
  {
   "cell_type": "code",
   "execution_count": 19,
   "metadata": {},
   "outputs": [
    {
     "data": {
      "text/plain": [
       "(59400, 217)"
      ]
     },
     "execution_count": 19,
     "metadata": {},
     "output_type": "execute_result"
    }
   ],
   "source": [
    "x_final.shape"
   ]
  },
  {
   "cell_type": "code",
   "execution_count": 20,
   "metadata": {},
   "outputs": [],
   "source": [
    "x_val, x_val_test, y_val, y_val_test= train_test_split(x_final, y_train, random_state=2020)"
   ]
  },
  {
   "cell_type": "code",
   "execution_count": 21,
   "metadata": {},
   "outputs": [],
   "source": [
    "bin_y = lambda x: 1 if x == 'functional' else 0\n",
    "y_tr_final = y_val['status_group'].apply(bin_y)\n",
    "y_te_final = y_val_test['status_group'].apply(bin_y)"
   ]
  },
  {
   "cell_type": "code",
   "execution_count": 22,
   "metadata": {},
   "outputs": [],
   "source": [
    "#from imblearn.over_sampling import SMOTE\n",
    "#sm1 = SMOTE(random_state=2020)"
   ]
  },
  {
   "cell_type": "code",
   "execution_count": null,
   "metadata": {},
   "outputs": [],
   "source": []
  },
  {
   "cell_type": "code",
   "execution_count": 23,
   "metadata": {},
   "outputs": [],
   "source": [
    "#y_val_train=np.array(y_val)\n",
    "#y_val_tr=y_val_train.ravel()\n",
    "#y_val_tr.shape"
   ]
  },
  {
   "cell_type": "code",
   "execution_count": 24,
   "metadata": {},
   "outputs": [],
   "source": [
    "#X_tr_sm, y_tr_sm = sm1.fit_resample(x_val,y_val_tr)"
   ]
  },
  {
   "cell_type": "code",
   "execution_count": 25,
   "metadata": {},
   "outputs": [],
   "source": [
    "#X_tr_sm.shape"
   ]
  },
  {
   "cell_type": "code",
   "execution_count": 26,
   "metadata": {},
   "outputs": [],
   "source": [
    "#y_tr_sm.shape"
   ]
  },
  {
   "cell_type": "code",
   "execution_count": 27,
   "metadata": {},
   "outputs": [],
   "source": [
    "#from sklearn.linear_model import LogisticRegression"
   ]
  },
  {
   "cell_type": "code",
   "execution_count": 22,
   "metadata": {},
   "outputs": [
    {
     "data": {
      "text/html": [
       "<div>\n",
       "<style scoped>\n",
       "    .dataframe tbody tr th:only-of-type {\n",
       "        vertical-align: middle;\n",
       "    }\n",
       "\n",
       "    .dataframe tbody tr th {\n",
       "        vertical-align: top;\n",
       "    }\n",
       "\n",
       "    .dataframe thead th {\n",
       "        text-align: right;\n",
       "    }\n",
       "</style>\n",
       "<table border=\"1\" class=\"dataframe\">\n",
       "  <thead>\n",
       "    <tr style=\"text-align: right;\">\n",
       "      <th></th>\n",
       "      <th>amount_tsh</th>\n",
       "      <th>gps_height</th>\n",
       "      <th>population</th>\n",
       "      <th>construction_year</th>\n",
       "      <th>basin_Internal</th>\n",
       "      <th>basin_Lake Nyasa</th>\n",
       "      <th>basin_Lake Rukwa</th>\n",
       "      <th>basin_Lake Tanganyika</th>\n",
       "      <th>basin_Lake Victoria</th>\n",
       "      <th>basin_Pangani</th>\n",
       "      <th>...</th>\n",
       "      <th>source_type_river/lake</th>\n",
       "      <th>source_type_shallow well</th>\n",
       "      <th>source_type_spring</th>\n",
       "      <th>waterpoint_type_cattle trough</th>\n",
       "      <th>waterpoint_type_communal standpipe</th>\n",
       "      <th>waterpoint_type_communal standpipe multiple</th>\n",
       "      <th>waterpoint_type_dam</th>\n",
       "      <th>waterpoint_type_hand pump</th>\n",
       "      <th>waterpoint_type_improved spring</th>\n",
       "      <th>waterpoint_type_other</th>\n",
       "    </tr>\n",
       "    <tr>\n",
       "      <th>id</th>\n",
       "      <th></th>\n",
       "      <th></th>\n",
       "      <th></th>\n",
       "      <th></th>\n",
       "      <th></th>\n",
       "      <th></th>\n",
       "      <th></th>\n",
       "      <th></th>\n",
       "      <th></th>\n",
       "      <th></th>\n",
       "      <th></th>\n",
       "      <th></th>\n",
       "      <th></th>\n",
       "      <th></th>\n",
       "      <th></th>\n",
       "      <th></th>\n",
       "      <th></th>\n",
       "      <th></th>\n",
       "      <th></th>\n",
       "      <th></th>\n",
       "      <th></th>\n",
       "    </tr>\n",
       "  </thead>\n",
       "  <tbody>\n",
       "    <tr>\n",
       "      <th>41434</th>\n",
       "      <td>-0.105970</td>\n",
       "      <td>-0.964200</td>\n",
       "      <td>-0.381587</td>\n",
       "      <td>-1.366788</td>\n",
       "      <td>0.0</td>\n",
       "      <td>0.0</td>\n",
       "      <td>0.0</td>\n",
       "      <td>0.0</td>\n",
       "      <td>1.0</td>\n",
       "      <td>0.0</td>\n",
       "      <td>...</td>\n",
       "      <td>0.0</td>\n",
       "      <td>1.0</td>\n",
       "      <td>0.0</td>\n",
       "      <td>0.0</td>\n",
       "      <td>0.0</td>\n",
       "      <td>0.0</td>\n",
       "      <td>0.0</td>\n",
       "      <td>1.0</td>\n",
       "      <td>0.0</td>\n",
       "      <td>0.0</td>\n",
       "    </tr>\n",
       "    <tr>\n",
       "      <th>47577</th>\n",
       "      <td>0.294357</td>\n",
       "      <td>0.807523</td>\n",
       "      <td>0.997056</td>\n",
       "      <td>0.737010</td>\n",
       "      <td>0.0</td>\n",
       "      <td>0.0</td>\n",
       "      <td>0.0</td>\n",
       "      <td>1.0</td>\n",
       "      <td>0.0</td>\n",
       "      <td>0.0</td>\n",
       "      <td>...</td>\n",
       "      <td>1.0</td>\n",
       "      <td>0.0</td>\n",
       "      <td>0.0</td>\n",
       "      <td>0.0</td>\n",
       "      <td>1.0</td>\n",
       "      <td>0.0</td>\n",
       "      <td>0.0</td>\n",
       "      <td>0.0</td>\n",
       "      <td>0.0</td>\n",
       "      <td>0.0</td>\n",
       "    </tr>\n",
       "    <tr>\n",
       "      <th>55982</th>\n",
       "      <td>-0.105970</td>\n",
       "      <td>-0.964200</td>\n",
       "      <td>-0.381587</td>\n",
       "      <td>-1.366788</td>\n",
       "      <td>0.0</td>\n",
       "      <td>0.0</td>\n",
       "      <td>0.0</td>\n",
       "      <td>1.0</td>\n",
       "      <td>0.0</td>\n",
       "      <td>0.0</td>\n",
       "      <td>...</td>\n",
       "      <td>0.0</td>\n",
       "      <td>1.0</td>\n",
       "      <td>0.0</td>\n",
       "      <td>0.0</td>\n",
       "      <td>0.0</td>\n",
       "      <td>0.0</td>\n",
       "      <td>0.0</td>\n",
       "      <td>1.0</td>\n",
       "      <td>0.0</td>\n",
       "      <td>0.0</td>\n",
       "    </tr>\n",
       "    <tr>\n",
       "      <th>25879</th>\n",
       "      <td>-0.105970</td>\n",
       "      <td>0.412204</td>\n",
       "      <td>0.042611</td>\n",
       "      <td>0.738060</td>\n",
       "      <td>0.0</td>\n",
       "      <td>0.0</td>\n",
       "      <td>0.0</td>\n",
       "      <td>0.0</td>\n",
       "      <td>0.0</td>\n",
       "      <td>1.0</td>\n",
       "      <td>...</td>\n",
       "      <td>0.0</td>\n",
       "      <td>1.0</td>\n",
       "      <td>0.0</td>\n",
       "      <td>0.0</td>\n",
       "      <td>0.0</td>\n",
       "      <td>0.0</td>\n",
       "      <td>0.0</td>\n",
       "      <td>0.0</td>\n",
       "      <td>0.0</td>\n",
       "      <td>1.0</td>\n",
       "    </tr>\n",
       "    <tr>\n",
       "      <th>13900</th>\n",
       "      <td>-0.105970</td>\n",
       "      <td>-0.964200</td>\n",
       "      <td>-0.381587</td>\n",
       "      <td>-1.366788</td>\n",
       "      <td>0.0</td>\n",
       "      <td>1.0</td>\n",
       "      <td>0.0</td>\n",
       "      <td>0.0</td>\n",
       "      <td>0.0</td>\n",
       "      <td>0.0</td>\n",
       "      <td>...</td>\n",
       "      <td>0.0</td>\n",
       "      <td>0.0</td>\n",
       "      <td>1.0</td>\n",
       "      <td>0.0</td>\n",
       "      <td>1.0</td>\n",
       "      <td>0.0</td>\n",
       "      <td>0.0</td>\n",
       "      <td>0.0</td>\n",
       "      <td>0.0</td>\n",
       "      <td>0.0</td>\n",
       "    </tr>\n",
       "    <tr>\n",
       "      <th>...</th>\n",
       "      <td>...</td>\n",
       "      <td>...</td>\n",
       "      <td>...</td>\n",
       "      <td>...</td>\n",
       "      <td>...</td>\n",
       "      <td>...</td>\n",
       "      <td>...</td>\n",
       "      <td>...</td>\n",
       "      <td>...</td>\n",
       "      <td>...</td>\n",
       "      <td>...</td>\n",
       "      <td>...</td>\n",
       "      <td>...</td>\n",
       "      <td>...</td>\n",
       "      <td>...</td>\n",
       "      <td>...</td>\n",
       "      <td>...</td>\n",
       "      <td>...</td>\n",
       "      <td>...</td>\n",
       "      <td>...</td>\n",
       "      <td>...</td>\n",
       "    </tr>\n",
       "    <tr>\n",
       "      <th>43021</th>\n",
       "      <td>-0.105970</td>\n",
       "      <td>1.840547</td>\n",
       "      <td>-0.063439</td>\n",
       "      <td>0.718094</td>\n",
       "      <td>0.0</td>\n",
       "      <td>0.0</td>\n",
       "      <td>1.0</td>\n",
       "      <td>0.0</td>\n",
       "      <td>0.0</td>\n",
       "      <td>0.0</td>\n",
       "      <td>...</td>\n",
       "      <td>1.0</td>\n",
       "      <td>0.0</td>\n",
       "      <td>0.0</td>\n",
       "      <td>0.0</td>\n",
       "      <td>1.0</td>\n",
       "      <td>0.0</td>\n",
       "      <td>0.0</td>\n",
       "      <td>0.0</td>\n",
       "      <td>0.0</td>\n",
       "      <td>0.0</td>\n",
       "    </tr>\n",
       "    <tr>\n",
       "      <th>49821</th>\n",
       "      <td>-0.105970</td>\n",
       "      <td>1.230255</td>\n",
       "      <td>-0.169488</td>\n",
       "      <td>0.725450</td>\n",
       "      <td>0.0</td>\n",
       "      <td>0.0</td>\n",
       "      <td>1.0</td>\n",
       "      <td>0.0</td>\n",
       "      <td>0.0</td>\n",
       "      <td>0.0</td>\n",
       "      <td>...</td>\n",
       "      <td>0.0</td>\n",
       "      <td>1.0</td>\n",
       "      <td>0.0</td>\n",
       "      <td>0.0</td>\n",
       "      <td>0.0</td>\n",
       "      <td>0.0</td>\n",
       "      <td>0.0</td>\n",
       "      <td>0.0</td>\n",
       "      <td>0.0</td>\n",
       "      <td>1.0</td>\n",
       "    </tr>\n",
       "    <tr>\n",
       "      <th>2983</th>\n",
       "      <td>-0.105970</td>\n",
       "      <td>-0.964200</td>\n",
       "      <td>-0.381587</td>\n",
       "      <td>-1.366788</td>\n",
       "      <td>0.0</td>\n",
       "      <td>0.0</td>\n",
       "      <td>1.0</td>\n",
       "      <td>0.0</td>\n",
       "      <td>0.0</td>\n",
       "      <td>0.0</td>\n",
       "      <td>...</td>\n",
       "      <td>0.0</td>\n",
       "      <td>0.0</td>\n",
       "      <td>1.0</td>\n",
       "      <td>0.0</td>\n",
       "      <td>0.0</td>\n",
       "      <td>0.0</td>\n",
       "      <td>0.0</td>\n",
       "      <td>0.0</td>\n",
       "      <td>0.0</td>\n",
       "      <td>1.0</td>\n",
       "    </tr>\n",
       "    <tr>\n",
       "      <th>45192</th>\n",
       "      <td>0.060833</td>\n",
       "      <td>0.901303</td>\n",
       "      <td>-0.254328</td>\n",
       "      <td>0.737010</td>\n",
       "      <td>0.0</td>\n",
       "      <td>1.0</td>\n",
       "      <td>0.0</td>\n",
       "      <td>0.0</td>\n",
       "      <td>0.0</td>\n",
       "      <td>0.0</td>\n",
       "      <td>...</td>\n",
       "      <td>0.0</td>\n",
       "      <td>0.0</td>\n",
       "      <td>1.0</td>\n",
       "      <td>0.0</td>\n",
       "      <td>1.0</td>\n",
       "      <td>0.0</td>\n",
       "      <td>0.0</td>\n",
       "      <td>0.0</td>\n",
       "      <td>0.0</td>\n",
       "      <td>0.0</td>\n",
       "    </tr>\n",
       "    <tr>\n",
       "      <th>28256</th>\n",
       "      <td>-0.105970</td>\n",
       "      <td>-0.964200</td>\n",
       "      <td>-0.381587</td>\n",
       "      <td>-1.366788</td>\n",
       "      <td>0.0</td>\n",
       "      <td>0.0</td>\n",
       "      <td>0.0</td>\n",
       "      <td>0.0</td>\n",
       "      <td>0.0</td>\n",
       "      <td>0.0</td>\n",
       "      <td>...</td>\n",
       "      <td>1.0</td>\n",
       "      <td>0.0</td>\n",
       "      <td>0.0</td>\n",
       "      <td>0.0</td>\n",
       "      <td>1.0</td>\n",
       "      <td>0.0</td>\n",
       "      <td>0.0</td>\n",
       "      <td>0.0</td>\n",
       "      <td>0.0</td>\n",
       "      <td>0.0</td>\n",
       "    </tr>\n",
       "  </tbody>\n",
       "</table>\n",
       "<p>44550 rows × 217 columns</p>\n",
       "</div>"
      ],
      "text/plain": [
       "       amount_tsh  gps_height  population  construction_year  basin_Internal  \\\n",
       "id                                                                             \n",
       "41434   -0.105970   -0.964200   -0.381587          -1.366788             0.0   \n",
       "47577    0.294357    0.807523    0.997056           0.737010             0.0   \n",
       "55982   -0.105970   -0.964200   -0.381587          -1.366788             0.0   \n",
       "25879   -0.105970    0.412204    0.042611           0.738060             0.0   \n",
       "13900   -0.105970   -0.964200   -0.381587          -1.366788             0.0   \n",
       "...           ...         ...         ...                ...             ...   \n",
       "43021   -0.105970    1.840547   -0.063439           0.718094             0.0   \n",
       "49821   -0.105970    1.230255   -0.169488           0.725450             0.0   \n",
       "2983    -0.105970   -0.964200   -0.381587          -1.366788             0.0   \n",
       "45192    0.060833    0.901303   -0.254328           0.737010             0.0   \n",
       "28256   -0.105970   -0.964200   -0.381587          -1.366788             0.0   \n",
       "\n",
       "       basin_Lake Nyasa  basin_Lake Rukwa  basin_Lake Tanganyika  \\\n",
       "id                                                                 \n",
       "41434               0.0               0.0                    0.0   \n",
       "47577               0.0               0.0                    1.0   \n",
       "55982               0.0               0.0                    1.0   \n",
       "25879               0.0               0.0                    0.0   \n",
       "13900               1.0               0.0                    0.0   \n",
       "...                 ...               ...                    ...   \n",
       "43021               0.0               1.0                    0.0   \n",
       "49821               0.0               1.0                    0.0   \n",
       "2983                0.0               1.0                    0.0   \n",
       "45192               1.0               0.0                    0.0   \n",
       "28256               0.0               0.0                    0.0   \n",
       "\n",
       "       basin_Lake Victoria  basin_Pangani  ...  source_type_river/lake  \\\n",
       "id                                         ...                           \n",
       "41434                  1.0            0.0  ...                     0.0   \n",
       "47577                  0.0            0.0  ...                     1.0   \n",
       "55982                  0.0            0.0  ...                     0.0   \n",
       "25879                  0.0            1.0  ...                     0.0   \n",
       "13900                  0.0            0.0  ...                     0.0   \n",
       "...                    ...            ...  ...                     ...   \n",
       "43021                  0.0            0.0  ...                     1.0   \n",
       "49821                  0.0            0.0  ...                     0.0   \n",
       "2983                   0.0            0.0  ...                     0.0   \n",
       "45192                  0.0            0.0  ...                     0.0   \n",
       "28256                  0.0            0.0  ...                     1.0   \n",
       "\n",
       "       source_type_shallow well  source_type_spring  \\\n",
       "id                                                    \n",
       "41434                       1.0                 0.0   \n",
       "47577                       0.0                 0.0   \n",
       "55982                       1.0                 0.0   \n",
       "25879                       1.0                 0.0   \n",
       "13900                       0.0                 1.0   \n",
       "...                         ...                 ...   \n",
       "43021                       0.0                 0.0   \n",
       "49821                       1.0                 0.0   \n",
       "2983                        0.0                 1.0   \n",
       "45192                       0.0                 1.0   \n",
       "28256                       0.0                 0.0   \n",
       "\n",
       "       waterpoint_type_cattle trough  waterpoint_type_communal standpipe  \\\n",
       "id                                                                         \n",
       "41434                            0.0                                 0.0   \n",
       "47577                            0.0                                 1.0   \n",
       "55982                            0.0                                 0.0   \n",
       "25879                            0.0                                 0.0   \n",
       "13900                            0.0                                 1.0   \n",
       "...                              ...                                 ...   \n",
       "43021                            0.0                                 1.0   \n",
       "49821                            0.0                                 0.0   \n",
       "2983                             0.0                                 0.0   \n",
       "45192                            0.0                                 1.0   \n",
       "28256                            0.0                                 1.0   \n",
       "\n",
       "       waterpoint_type_communal standpipe multiple  waterpoint_type_dam  \\\n",
       "id                                                                        \n",
       "41434                                          0.0                  0.0   \n",
       "47577                                          0.0                  0.0   \n",
       "55982                                          0.0                  0.0   \n",
       "25879                                          0.0                  0.0   \n",
       "13900                                          0.0                  0.0   \n",
       "...                                            ...                  ...   \n",
       "43021                                          0.0                  0.0   \n",
       "49821                                          0.0                  0.0   \n",
       "2983                                           0.0                  0.0   \n",
       "45192                                          0.0                  0.0   \n",
       "28256                                          0.0                  0.0   \n",
       "\n",
       "       waterpoint_type_hand pump  waterpoint_type_improved spring  \\\n",
       "id                                                                  \n",
       "41434                        1.0                              0.0   \n",
       "47577                        0.0                              0.0   \n",
       "55982                        1.0                              0.0   \n",
       "25879                        0.0                              0.0   \n",
       "13900                        0.0                              0.0   \n",
       "...                          ...                              ...   \n",
       "43021                        0.0                              0.0   \n",
       "49821                        0.0                              0.0   \n",
       "2983                         0.0                              0.0   \n",
       "45192                        0.0                              0.0   \n",
       "28256                        0.0                              0.0   \n",
       "\n",
       "       waterpoint_type_other  \n",
       "id                            \n",
       "41434                    0.0  \n",
       "47577                    0.0  \n",
       "55982                    0.0  \n",
       "25879                    1.0  \n",
       "13900                    0.0  \n",
       "...                      ...  \n",
       "43021                    0.0  \n",
       "49821                    1.0  \n",
       "2983                     1.0  \n",
       "45192                    0.0  \n",
       "28256                    0.0  \n",
       "\n",
       "[44550 rows x 217 columns]"
      ]
     },
     "execution_count": 22,
     "metadata": {},
     "output_type": "execute_result"
    }
   ],
   "source": [
    "y_tr_final.value_counts()\n",
    "x_val"
   ]
  },
  {
   "cell_type": "code",
   "execution_count": 23,
   "metadata": {},
   "outputs": [
    {
     "name": "stderr",
     "output_type": "stream",
     "text": [
      "C:\\Users\\ptann\\Anaconda3\\envs\\waterwell-env\\lib\\site-packages\\sklearn\\ensemble\\forest.py:248: FutureWarning: The default value of n_estimators will change from 10 in version 0.20 to 100 in 0.22.\n",
      "  \"10 in version 0.20 to 100 in 0.22.\", FutureWarning)\n"
     ]
    }
   ],
   "source": [
    "rf=RandomForestClassifier()\n",
    "rf.fit(x_val,y_tr_final)\n",
    "y_pred_rf_1=rf.predict(x_val_test)"
   ]
  },
  {
   "cell_type": "code",
   "execution_count": 24,
   "metadata": {},
   "outputs": [
    {
     "name": "stdout",
     "output_type": "stream",
     "text": [
      "              precision    recall  f1-score   support\n",
      "\n",
      "           0       0.78      0.76      0.77      6840\n",
      "           1       0.80      0.82      0.81      8010\n",
      "\n",
      "   micro avg       0.79      0.79      0.79     14850\n",
      "   macro avg       0.79      0.79      0.79     14850\n",
      "weighted avg       0.79      0.79      0.79     14850\n",
      "\n"
     ]
    }
   ],
   "source": [
    "print(classification_report(y_te_final, y_pred_rf_1))"
   ]
  },
  {
   "cell_type": "code",
   "execution_count": 25,
   "metadata": {},
   "outputs": [],
   "source": [
    "from sklearn.metrics import confusion_matrix"
   ]
  },
  {
   "cell_type": "code",
   "execution_count": 26,
   "metadata": {},
   "outputs": [
    {
     "data": {
      "text/plain": [
       "array([[5226, 1614],\n",
       "       [1442, 6568]], dtype=int64)"
      ]
     },
     "execution_count": 26,
     "metadata": {},
     "output_type": "execute_result"
    }
   ],
   "source": [
    "confusion_matrix(y_te_final,y_pred_rf_1)"
   ]
  },
  {
   "cell_type": "code",
   "execution_count": 27,
   "metadata": {},
   "outputs": [],
   "source": [
    "#params = {'max_depth': [5,10,25],\n",
    " #   'min_samples_split': [3,5,7],\n",
    "  #  'max_features': ['sqrt', 0.5],\n",
    "   # 'n_estimators': [50, 100, 200]}"
   ]
  },
  {
   "cell_type": "code",
   "execution_count": 40,
   "metadata": {},
   "outputs": [],
   "source": [
    "#rf_1_grid_search=GridSearchCV(rf,params,cv=3)\n"
   ]
  },
  {
   "cell_type": "code",
   "execution_count": 41,
   "metadata": {},
   "outputs": [
    {
     "data": {
      "text/plain": [
       "GridSearchCV(cv=3, error_score='raise-deprecating',\n",
       "       estimator=RandomForestClassifier(bootstrap=True, class_weight=None, criterion='gini',\n",
       "            max_depth=None, max_features='auto', max_leaf_nodes=None,\n",
       "            min_impurity_decrease=0.0, min_impurity_split=None,\n",
       "            min_samples_leaf=1, min_samples_split=2,\n",
       "            min_weight_fraction_leaf=0.0, n_estimators=10, n_jobs=None,\n",
       "            oob_score=False, random_state=None, verbose=0,\n",
       "            warm_start=False),\n",
       "       fit_params=None, iid='warn', n_jobs=None,\n",
       "       param_grid={'max_depth': [5, 10, 25], 'min_samples_split': [3, 5, 7], 'max_features': ['sqrt', 0.5], 'n_estimators': [50, 100, 200]},\n",
       "       pre_dispatch='2*n_jobs', refit=True, return_train_score='warn',\n",
       "       scoring=None, verbose=0)"
      ]
     },
     "execution_count": 41,
     "metadata": {},
     "output_type": "execute_result"
    }
   ],
   "source": [
    "#rf_1_grid_search.fit(x_val, y_tr_final)"
   ]
  },
  {
   "cell_type": "code",
   "execution_count": 61,
   "metadata": {},
   "outputs": [],
   "source": [
    "#y_train_sm=pd.DataFrame(y_tr_sm)"
   ]
  },
  {
   "cell_type": "code",
   "execution_count": 63,
   "metadata": {},
   "outputs": [],
   "source": [
    "#x_train_sm=pd.DataFrame(X_tr_sm)"
   ]
  },
  {
   "cell_type": "code",
   "execution_count": 42,
   "metadata": {},
   "outputs": [
    {
     "data": {
      "text/plain": [
       "{'max_depth': 25,\n",
       " 'max_features': 'sqrt',\n",
       " 'min_samples_split': 7,\n",
       " 'n_estimators': 200}"
      ]
     },
     "execution_count": 42,
     "metadata": {},
     "output_type": "execute_result"
    }
   ],
   "source": [
    "rf_1_grid_search.best_params_"
   ]
  },
  {
   "cell_type": "code",
   "execution_count": 28,
   "metadata": {},
   "outputs": [],
   "source": [
    "rf_2=RandomForestClassifier(max_depth=25, max_features='sqrt', min_samples_split=7, n_estimators=200)"
   ]
  },
  {
   "cell_type": "code",
   "execution_count": 29,
   "metadata": {},
   "outputs": [],
   "source": [
    "rf_2.fit(x_val,y_tr_final)\n",
    "y_pred_rf_2=rf.predict(x_val_test)"
   ]
  },
  {
   "cell_type": "code",
   "execution_count": 59,
   "metadata": {},
   "outputs": [
    {
     "data": {
      "text/plain": [
       "pandas.core.frame.DataFrame"
      ]
     },
     "execution_count": 59,
     "metadata": {},
     "output_type": "execute_result"
    }
   ],
   "source": [
    "type(y_val_test)"
   ]
  },
  {
   "cell_type": "code",
   "execution_count": 46,
   "metadata": {},
   "outputs": [
    {
     "name": "stdout",
     "output_type": "stream",
     "text": [
      "              precision    recall  f1-score   support\n",
      "\n",
      "           0       0.79      0.76      0.78      6840\n",
      "           1       0.80      0.83      0.81      8010\n",
      "\n",
      "   micro avg       0.80      0.80      0.80     14850\n",
      "   macro avg       0.80      0.79      0.80     14850\n",
      "weighted avg       0.80      0.80      0.80     14850\n",
      "\n"
     ]
    }
   ],
   "source": [
    "print(classification_report(y_te_final, y_pred_rf_2))"
   ]
  },
  {
   "cell_type": "code",
   "execution_count": 47,
   "metadata": {},
   "outputs": [
    {
     "name": "stdout",
     "output_type": "stream",
     "text": [
      "              precision    recall  f1-score   support\n",
      "\n",
      "           0       0.79      0.76      0.78      6840\n",
      "           1       0.80      0.83      0.81      8010\n",
      "\n",
      "   micro avg       0.80      0.80      0.80     14850\n",
      "   macro avg       0.80      0.79      0.80     14850\n",
      "weighted avg       0.80      0.80      0.80     14850\n",
      "\n"
     ]
    }
   ],
   "source": [
    "print(classification_report(y_te_final, y_pred_rf_1))"
   ]
  },
  {
   "cell_type": "code",
   "execution_count": 50,
   "metadata": {},
   "outputs": [
    {
     "data": {
      "text/plain": [
       "0.9350841750841751"
      ]
     },
     "execution_count": 50,
     "metadata": {},
     "output_type": "execute_result"
    }
   ],
   "source": [
    "rf.score(x_val, y_tr_final)"
   ]
  },
  {
   "cell_type": "code",
   "execution_count": 52,
   "metadata": {},
   "outputs": [
    {
     "data": {
      "text/plain": [
       "0.7969023569023569"
      ]
     },
     "execution_count": 52,
     "metadata": {},
     "output_type": "execute_result"
    }
   ],
   "source": [
    "rf.score(x_val_test, y_te_final)"
   ]
  },
  {
   "cell_type": "code",
   "execution_count": 53,
   "metadata": {},
   "outputs": [
    {
     "data": {
      "text/plain": [
       "0.8776879910213243"
      ]
     },
     "execution_count": 53,
     "metadata": {},
     "output_type": "execute_result"
    }
   ],
   "source": [
    "rf_2.score(x_val,y_tr_final)"
   ]
  },
  {
   "cell_type": "code",
   "execution_count": 54,
   "metadata": {},
   "outputs": [
    {
     "data": {
      "text/plain": [
       "0.8061279461279461"
      ]
     },
     "execution_count": 54,
     "metadata": {},
     "output_type": "execute_result"
    }
   ],
   "source": [
    "rf_2.score(x_val_test,y_te_final)"
   ]
  },
  {
   "cell_type": "code",
   "execution_count": 58,
   "metadata": {},
   "outputs": [],
   "source": [
    "import matplotlib.pyplot as plt"
   ]
  },
  {
   "cell_type": "code",
   "execution_count": 59,
   "metadata": {},
   "outputs": [
    {
     "ename": "NameError",
     "evalue": "name 'features' is not defined",
     "output_type": "error",
     "traceback": [
      "\u001b[1;31m---------------------------------------------------------------------------\u001b[0m",
      "\u001b[1;31mNameError\u001b[0m                                 Traceback (most recent call last)",
      "\u001b[1;32m<ipython-input-59-0351e7b22914>\u001b[0m in \u001b[0;36m<module>\u001b[1;34m\u001b[0m\n\u001b[0;32m      5\u001b[0m \u001b[0mplt\u001b[0m\u001b[1;33m.\u001b[0m\u001b[0mtitle\u001b[0m\u001b[1;33m(\u001b[0m\u001b[1;34m'Feature Importances'\u001b[0m\u001b[1;33m)\u001b[0m\u001b[1;33m\u001b[0m\u001b[1;33m\u001b[0m\u001b[0m\n\u001b[0;32m      6\u001b[0m \u001b[0mplt\u001b[0m\u001b[1;33m.\u001b[0m\u001b[0mbarh\u001b[0m\u001b[1;33m(\u001b[0m\u001b[0mrange\u001b[0m\u001b[1;33m(\u001b[0m\u001b[0mlen\u001b[0m\u001b[1;33m(\u001b[0m\u001b[0mindices\u001b[0m\u001b[1;33m)\u001b[0m\u001b[1;33m)\u001b[0m\u001b[1;33m,\u001b[0m \u001b[0mimportances\u001b[0m\u001b[1;33m[\u001b[0m\u001b[0mindices\u001b[0m\u001b[1;33m]\u001b[0m\u001b[1;33m,\u001b[0m \u001b[0mcolor\u001b[0m\u001b[1;33m=\u001b[0m\u001b[1;34m'b'\u001b[0m\u001b[1;33m,\u001b[0m \u001b[0malign\u001b[0m\u001b[1;33m=\u001b[0m\u001b[1;34m'center'\u001b[0m\u001b[1;33m)\u001b[0m\u001b[1;33m\u001b[0m\u001b[1;33m\u001b[0m\u001b[0m\n\u001b[1;32m----> 7\u001b[1;33m \u001b[0mplt\u001b[0m\u001b[1;33m.\u001b[0m\u001b[0myticks\u001b[0m\u001b[1;33m(\u001b[0m\u001b[0mrange\u001b[0m\u001b[1;33m(\u001b[0m\u001b[0mlen\u001b[0m\u001b[1;33m(\u001b[0m\u001b[0mindices\u001b[0m\u001b[1;33m)\u001b[0m\u001b[1;33m)\u001b[0m\u001b[1;33m,\u001b[0m \u001b[0mfeatures\u001b[0m\u001b[1;33m[\u001b[0m\u001b[0mindices\u001b[0m\u001b[1;33m]\u001b[0m\u001b[1;33m)\u001b[0m\u001b[1;33m\u001b[0m\u001b[1;33m\u001b[0m\u001b[0m\n\u001b[0m\u001b[0;32m      8\u001b[0m \u001b[0mplt\u001b[0m\u001b[1;33m.\u001b[0m\u001b[0mxlabel\u001b[0m\u001b[1;33m(\u001b[0m\u001b[1;34m'Relative Importance'\u001b[0m\u001b[1;33m)\u001b[0m\u001b[1;33m\u001b[0m\u001b[1;33m\u001b[0m\u001b[0m\n",
      "\u001b[1;31mNameError\u001b[0m: name 'features' is not defined"
     ]
    },
    {
     "data": {
      "image/png": "[encoded data removed]",
      "text/plain": [
       "<Figure size 432x288 with 1 Axes>"
      ]
     },
     "metadata": {
      "needs_background": "light"
     },
     "output_type": "display_data"
    }
   ],
   "source": [
    "importances = rf_2.feature_importances_\n",
    "indices = np.argsort(importances)\n",
    "\n",
    "plt.figure(1)\n",
    "plt.title('Feature Importances')\n",
    "plt.barh(range(len(indices)), importances[indices], color='b', align='center')\n",
    "plt.yticks(range(len(indices)), features[indices])\n",
    "plt.xlabel('Relative Importance')"
   ]
  },
  {
   "cell_type": "code",
   "execution_count": null,
   "metadata": {},
   "outputs": [],
   "source": []
  }
 ],
 "metadata": {
  "kernelspec": {
   "display_name": "Python [conda env:waterwell-env] *",
   "language": "python",
   "name": "conda-env-waterwell-env-py"
  },
  "language_info": {
   "codemirror_mode": {
    "name": "ipython",
    "version": 3
   },
   "file_extension": ".py",
   "mimetype": "text/x-python",
   "name": "python",
   "nbconvert_exporter": "python",
   "pygments_lexer": "ipython3",
   "version": "3.6.9"
  }
 },
 "nbformat": 4,
 "nbformat_minor": 4
}
