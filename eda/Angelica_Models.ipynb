{
 "cells": [
  {
   "cell_type": "code",
   "execution_count": 46,
   "metadata": {},
   "outputs": [],
   "source": [
    "import sys\n",
    "import pathlib\n",
    "src_path = pathlib.Path().absolute().parent / \"src\"\n",
    "sys.path.append(str(src_path))\n",
    "import data_functions\n",
    "\n",
    "import pandas as pd\n",
    "import matplotlib.pyplot as plt\n",
    "\n",
    "from sklearn.linear_model import LogisticRegression\n",
    "from sklearn.tree import DecisionTreeClassifier\n",
    "from sklearn.preprocessing import StandardScaler, MinMaxScaler\n",
    "from sklearn.model_selection import train_test_split, cross_val_score, GridSearchCV\n",
    "from sklearn.metrics import accuracy_score\n",
    "from sklearn.pipeline import make_pipeline\n",
    "\n",
    "\n",
    "import pickle\n",
    "\n",
    "#import model features pipeline\n",
    "strict_pickle_path = src_path / 'strict_pre_pipeline_AD.pkl'\n",
    "loose_pickle_path = src_path / 'loose_pre_pipeline.pkl'\n",
    "\n",
    "%matplotlib inline"
   ]
  },
  {
   "cell_type": "code",
   "execution_count": 26,
   "metadata": {},
   "outputs": [],
   "source": [
    "x_train, x_test, y_train = data_functions.get_dataframes()"
   ]
  },
  {
   "cell_type": "code",
   "execution_count": 43,
   "metadata": {},
   "outputs": [],
   "source": [
    "#magic code\n",
    "saved_model.get_params()['steps'][2][1].transformers[4][1].categories = 'auto'"
   ]
  },
  {
   "cell_type": "code",
   "execution_count": null,
   "metadata": {},
   "outputs": [],
   "source": []
  },
  {
   "cell_type": "code",
   "execution_count": 47,
   "metadata": {},
   "outputs": [],
   "source": []
  },
  {
   "cell_type": "code",
   "execution_count": 44,
   "metadata": {},
   "outputs": [
    {
     "data": {
      "text/plain": [
       "{'memory': None,\n",
       " 'steps': [('choosestrictfeatures', ChooseStrictFeatures()),\n",
       "  ('bininstaller', BinInstaller()),\n",
       "  ('columntransformer',\n",
       "   ColumnTransformer(remainder='passthrough',\n",
       "                     transformers=[('simpleimputer-1', SimpleImputer(),\n",
       "                                    ['amount_tsh', 'gps_height', 'population',\n",
       "                                     'construction_year']),\n",
       "                                   ('simpleimputer-2',\n",
       "                                    SimpleImputer(missing_values=0.0),\n",
       "                                    ['construction_year']),\n",
       "                                   ('transformconstructionyear',\n",
       "                                    TransformConstructionYear(),\n",
       "                                    ['construction_year']),\n",
       "                                   ('standardscaler', StandardScaler(),\n",
       "                                    ['amount_tsh', 'gps_height', 'population',\n",
       "                                     'construction_year']),\n",
       "                                   ('onehotencoder',\n",
       "                                    OneHotEncoder(handle_unknown='ignore',\n",
       "                                                  sparse=False),\n",
       "                                    ['installer', 'basin', 'region', 'lga',\n",
       "                                     'extraction_type_group', 'payment_type',\n",
       "                                     'quality_group', 'quantity', 'source_type',\n",
       "                                     'waterpoint_type'])]))],\n",
       " 'verbose': False,\n",
       " 'choosestrictfeatures': ChooseStrictFeatures(),\n",
       " 'bininstaller': BinInstaller(),\n",
       " 'columntransformer': ColumnTransformer(remainder='passthrough',\n",
       "                   transformers=[('simpleimputer-1', SimpleImputer(),\n",
       "                                  ['amount_tsh', 'gps_height', 'population',\n",
       "                                   'construction_year']),\n",
       "                                 ('simpleimputer-2',\n",
       "                                  SimpleImputer(missing_values=0.0),\n",
       "                                  ['construction_year']),\n",
       "                                 ('transformconstructionyear',\n",
       "                                  TransformConstructionYear(),\n",
       "                                  ['construction_year']),\n",
       "                                 ('standardscaler', StandardScaler(),\n",
       "                                  ['amount_tsh', 'gps_height', 'population',\n",
       "                                   'construction_year']),\n",
       "                                 ('onehotencoder',\n",
       "                                  OneHotEncoder(handle_unknown='ignore',\n",
       "                                                sparse=False),\n",
       "                                  ['installer', 'basin', 'region', 'lga',\n",
       "                                   'extraction_type_group', 'payment_type',\n",
       "                                   'quality_group', 'quantity', 'source_type',\n",
       "                                   'waterpoint_type'])]),\n",
       " 'columntransformer__n_jobs': None,\n",
       " 'columntransformer__remainder': 'passthrough',\n",
       " 'columntransformer__sparse_threshold': 0.3,\n",
       " 'columntransformer__transformer_weights': None,\n",
       " 'columntransformer__transformers': [('simpleimputer-1',\n",
       "   SimpleImputer(),\n",
       "   ['amount_tsh', 'gps_height', 'population', 'construction_year']),\n",
       "  ('simpleimputer-2',\n",
       "   SimpleImputer(missing_values=0.0),\n",
       "   ['construction_year']),\n",
       "  ('transformconstructionyear',\n",
       "   TransformConstructionYear(),\n",
       "   ['construction_year']),\n",
       "  ('standardscaler',\n",
       "   StandardScaler(),\n",
       "   ['amount_tsh', 'gps_height', 'population', 'construction_year']),\n",
       "  ('onehotencoder',\n",
       "   OneHotEncoder(handle_unknown='ignore', sparse=False),\n",
       "   ['installer',\n",
       "    'basin',\n",
       "    'region',\n",
       "    'lga',\n",
       "    'extraction_type_group',\n",
       "    'payment_type',\n",
       "    'quality_group',\n",
       "    'quantity',\n",
       "    'source_type',\n",
       "    'waterpoint_type'])],\n",
       " 'columntransformer__verbose': False,\n",
       " 'columntransformer__simpleimputer-1': SimpleImputer(),\n",
       " 'columntransformer__simpleimputer-2': SimpleImputer(missing_values=0.0),\n",
       " 'columntransformer__transformconstructionyear': TransformConstructionYear(),\n",
       " 'columntransformer__standardscaler': StandardScaler(),\n",
       " 'columntransformer__onehotencoder': OneHotEncoder(handle_unknown='ignore', sparse=False),\n",
       " 'columntransformer__simpleimputer-1__add_indicator': False,\n",
       " 'columntransformer__simpleimputer-1__copy': True,\n",
       " 'columntransformer__simpleimputer-1__fill_value': None,\n",
       " 'columntransformer__simpleimputer-1__missing_values': nan,\n",
       " 'columntransformer__simpleimputer-1__strategy': 'mean',\n",
       " 'columntransformer__simpleimputer-1__verbose': 0,\n",
       " 'columntransformer__simpleimputer-2__add_indicator': False,\n",
       " 'columntransformer__simpleimputer-2__copy': True,\n",
       " 'columntransformer__simpleimputer-2__fill_value': None,\n",
       " 'columntransformer__simpleimputer-2__missing_values': 0.0,\n",
       " 'columntransformer__simpleimputer-2__strategy': 'mean',\n",
       " 'columntransformer__simpleimputer-2__verbose': 0,\n",
       " 'columntransformer__standardscaler__copy': True,\n",
       " 'columntransformer__standardscaler__with_mean': True,\n",
       " 'columntransformer__standardscaler__with_std': True,\n",
       " 'columntransformer__onehotencoder__categories': 'auto',\n",
       " 'columntransformer__onehotencoder__drop': None,\n",
       " 'columntransformer__onehotencoder__dtype': numpy.float64,\n",
       " 'columntransformer__onehotencoder__handle_unknown': 'ignore',\n",
       " 'columntransformer__onehotencoder__sparse': False}"
      ]
     },
     "execution_count": 44,
     "metadata": {},
     "output_type": "execute_result"
    }
   ],
   "source": [
    "saved_model.get_params()"
   ]
  },
  {
   "cell_type": "code",
   "execution_count": 45,
   "metadata": {},
   "outputs": [
    {
     "data": {
      "text/plain": [
       "array([[6.000e+03, 1.390e+03, 1.090e+02, ..., 0.000e+00, 0.000e+00,\n",
       "        0.000e+00],\n",
       "       [0.000e+00, 1.399e+03, 2.800e+02, ..., 0.000e+00, 0.000e+00,\n",
       "        0.000e+00],\n",
       "       [2.500e+01, 6.860e+02, 2.500e+02, ..., 0.000e+00, 0.000e+00,\n",
       "        0.000e+00],\n",
       "       ...,\n",
       "       [0.000e+00, 0.000e+00, 0.000e+00, ..., 1.000e+00, 0.000e+00,\n",
       "        0.000e+00],\n",
       "       [0.000e+00, 0.000e+00, 0.000e+00, ..., 1.000e+00, 0.000e+00,\n",
       "        0.000e+00],\n",
       "       [0.000e+00, 1.910e+02, 1.500e+02, ..., 1.000e+00, 0.000e+00,\n",
       "        0.000e+00]])"
      ]
     },
     "execution_count": 45,
     "metadata": {},
     "output_type": "execute_result"
    }
   ],
   "source": [
    "#strict_pickle_path = src_path / 'strict_pre_pipeline.pkl'\n",
    "#file = open(strict_pickle_path, 'rb')\n",
    "#saved_model = pickle.load(file)\n",
    "#file.close()\n",
    "saved_model.fit_transform(x_train)\n",
    "#dtc = DecisionTreeClassifier()\n",
    "#final_model = make_pipeline(saved_model, dtc)\n",
    "#cross_val_score(final_model, x_train, y_train, cv = 5)"
   ]
  },
  {
   "cell_type": "code",
   "execution_count": null,
   "metadata": {},
   "outputs": [],
   "source": []
  },
  {
   "cell_type": "code",
   "execution_count": 10,
   "metadata": {},
   "outputs": [
    {
     "data": {
      "text/plain": [
       "Pipeline(steps=[('standardscaler', StandardScaler()),\n",
       "                ('logisticregression', LogisticRegression(random_state=2020))])"
      ]
     },
     "execution_count": 10,
     "metadata": {},
     "output_type": "execute_result"
    }
   ],
   "source": [
    "pipeline = make_pipeline(StandardScaler(), LogisticRegression(random_state=2020))\n",
    "pipeline"
   ]
  },
  {
   "cell_type": "code",
   "execution_count": null,
   "metadata": {},
   "outputs": [],
   "source": []
  },
  {
   "cell_type": "code",
   "execution_count": 23,
   "metadata": {},
   "outputs": [
    {
     "ename": "TypeError",
     "evalue": "dump() missing required argument 'file' (pos 2)",
     "output_type": "error",
     "traceback": [
      "\u001b[0;31m---------------------------------------------------------------------------\u001b[0m",
      "\u001b[0;31mTypeError\u001b[0m                                 Traceback (most recent call last)",
      "\u001b[0;32m<ipython-input-23-bb45f8b9e34f>\u001b[0m in \u001b[0;36m<module>\u001b[0;34m\u001b[0m\n\u001b[1;32m      2\u001b[0m \u001b[0;34m\u001b[0m\u001b[0m\n\u001b[1;32m      3\u001b[0m \u001b[0mloose_file\u001b[0m \u001b[0;34m=\u001b[0m \u001b[0mopen\u001b[0m\u001b[0;34m(\u001b[0m\u001b[0mloose_pickle_path\u001b[0m\u001b[0;34m,\u001b[0m \u001b[0;34m'wb'\u001b[0m\u001b[0;34m)\u001b[0m\u001b[0;34m\u001b[0m\u001b[0;34m\u001b[0m\u001b[0m\n\u001b[0;32m----> 4\u001b[0;31m \u001b[0mloose_models\u001b[0m \u001b[0;34m=\u001b[0m \u001b[0mpickle\u001b[0m\u001b[0;34m.\u001b[0m\u001b[0mdump\u001b[0m\u001b[0;34m(\u001b[0m\u001b[0mloose_file\u001b[0m\u001b[0;34m)\u001b[0m\u001b[0;34m\u001b[0m\u001b[0;34m\u001b[0m\u001b[0m\n\u001b[0m\u001b[1;32m      5\u001b[0m \u001b[0mloose_file\u001b[0m\u001b[0;34m.\u001b[0m\u001b[0mclose\u001b[0m\u001b[0;34m(\u001b[0m\u001b[0;34m)\u001b[0m\u001b[0;34m\u001b[0m\u001b[0;34m\u001b[0m\u001b[0m\n",
      "\u001b[0;31mTypeError\u001b[0m: dump() missing required argument 'file' (pos 2)"
     ]
    }
   ],
   "source": [
    "\n",
    "#pipeline.fit(X_train, y_train)\n",
    "\n",
    "loose_file = open(loose_pickle_path, 'wb')\n",
    "loose_models = pickle.(loose_file)\n",
    "loose_file.close()"
   ]
  },
  {
   "cell_type": "code",
   "execution_count": null,
   "metadata": {},
   "outputs": [],
   "source": [
    "pipeline.fit(features, target)\n",
    "\n",
    "lg"
   ]
  },
  {
   "cell_type": "code",
   "execution_count": 14,
   "metadata": {},
   "outputs": [
    {
     "ename": "NameError",
     "evalue": "name 'grid' is not defined",
     "output_type": "error",
     "traceback": [
      "\u001b[0;31m---------------------------------------------------------------------------\u001b[0m",
      "\u001b[0;31mNameError\u001b[0m                                 Traceback (most recent call last)",
      "\u001b[0;32m<ipython-input-14-f7d952e11d1b>\u001b[0m in \u001b[0;36m<module>\u001b[0;34m\u001b[0m\n\u001b[1;32m      1\u001b[0m \u001b[0;31m#Define grid search to help with hyperparameter testing\u001b[0m\u001b[0;34m\u001b[0m\u001b[0;34m\u001b[0m\u001b[0;34m\u001b[0m\u001b[0m\n\u001b[1;32m      2\u001b[0m gridsearch = GridSearchCV(estimator=strict_pickle_path, \n\u001b[0;32m----> 3\u001b[0;31m                           \u001b[0mparam_grid\u001b[0m\u001b[0;34m=\u001b[0m\u001b[0mgrid\u001b[0m\u001b[0;34m,\u001b[0m\u001b[0;34m\u001b[0m\u001b[0;34m\u001b[0m\u001b[0m\n\u001b[0m\u001b[1;32m      4\u001b[0m                           \u001b[0mscoring\u001b[0m\u001b[0;34m=\u001b[0m\u001b[0;34m'accuracy'\u001b[0m\u001b[0;34m,\u001b[0m\u001b[0;34m\u001b[0m\u001b[0;34m\u001b[0m\u001b[0m\n\u001b[1;32m      5\u001b[0m                           cv=5)\n",
      "\u001b[0;31mNameError\u001b[0m: name 'grid' is not defined"
     ]
    }
   ],
   "source": [
    "#Define grid search to help with hyperparameter testing\n",
    "gridsearch = GridSearchCV(estimator=strict_pickle_path, \n",
    "                          param_grid=grid, \n",
    "                          scoring='accuracy', \n",
    "                          cv=5)"
   ]
  },
  {
   "cell_type": "code",
   "execution_count": null,
   "metadata": {},
   "outputs": [],
   "source": []
  },
  {
   "cell_type": "code",
   "execution_count": null,
   "metadata": {},
   "outputs": [],
   "source": []
  },
  {
   "cell_type": "code",
   "execution_count": null,
   "metadata": {},
   "outputs": [],
   "source": []
  },
  {
   "cell_type": "code",
   "execution_count": null,
   "metadata": {},
   "outputs": [],
   "source": []
  },
  {
   "cell_type": "code",
   "execution_count": null,
   "metadata": {},
   "outputs": [],
   "source": []
  },
  {
   "cell_type": "code",
   "execution_count": null,
   "metadata": {},
   "outputs": [],
   "source": []
  },
  {
   "cell_type": "code",
   "execution_count": null,
   "metadata": {},
   "outputs": [],
   "source": [
    "#logistic classifier object\n",
    "lc = LogisticClassifier()\n",
    "lc.fit(model.transform(X_train), ytrain)\n",
    "\n",
    "lc.score\n",
    "lc.predict\n",
    "\n",
    "cross_val_score(lc, X_train, y_train)\n",
    "\n",
    "classification report. \n",
    "confusion matrix"
   ]
  },
  {
   "cell_type": "code",
   "execution_count": null,
   "metadata": {},
   "outputs": [],
   "source": [
    "lc= LogisticClassifier()\n",
    "lc.fit(model.transform(X_train), ytrain)\n",
    "\n",
    "lc.score\n",
    "lc.predict\n",
    "\n",
    "cross_val_score(lc, X_train, y_train)\n",
    "\n",
    "classification report. \n",
    "confusion matrix"
   ]
  },
  {
   "cell_type": "code",
   "execution_count": 16,
   "metadata": {},
   "outputs": [
    {
     "ename": "EOFError",
     "evalue": "Ran out of input",
     "output_type": "error",
     "traceback": [
      "\u001b[0;31m---------------------------------------------------------------------------\u001b[0m",
      "\u001b[0;31mEOFError\u001b[0m                                  Traceback (most recent call last)",
      "\u001b[0;32m<ipython-input-16-7fb2b0b2cea7>\u001b[0m in \u001b[0;36m<module>\u001b[0;34m\u001b[0m\n\u001b[1;32m      1\u001b[0m \u001b[0mstrict_pickle_path\u001b[0m \u001b[0;34m=\u001b[0m \u001b[0msrc_path\u001b[0m \u001b[0;34m/\u001b[0m \u001b[0;34m'loose_pre_pipeline.pkl'\u001b[0m\u001b[0;34m\u001b[0m\u001b[0;34m\u001b[0m\u001b[0m\n\u001b[1;32m      2\u001b[0m \u001b[0mfile\u001b[0m \u001b[0;34m=\u001b[0m \u001b[0mopen\u001b[0m\u001b[0;34m(\u001b[0m\u001b[0mloose_pickle_path\u001b[0m\u001b[0;34m,\u001b[0m \u001b[0;34m'rb'\u001b[0m\u001b[0;34m)\u001b[0m\u001b[0;34m\u001b[0m\u001b[0;34m\u001b[0m\u001b[0m\n\u001b[0;32m----> 3\u001b[0;31m \u001b[0msaved_model\u001b[0m \u001b[0;34m=\u001b[0m \u001b[0mpickle\u001b[0m\u001b[0;34m.\u001b[0m\u001b[0mload\u001b[0m\u001b[0;34m(\u001b[0m\u001b[0mfile\u001b[0m\u001b[0;34m)\u001b[0m\u001b[0;34m\u001b[0m\u001b[0;34m\u001b[0m\u001b[0m\n\u001b[0m\u001b[1;32m      4\u001b[0m \u001b[0mfile\u001b[0m\u001b[0;34m.\u001b[0m\u001b[0mclose\u001b[0m\u001b[0;34m(\u001b[0m\u001b[0;34m)\u001b[0m\u001b[0;34m\u001b[0m\u001b[0;34m\u001b[0m\u001b[0m\n\u001b[1;32m      5\u001b[0m \u001b[0msaved_model\u001b[0m\u001b[0;34m.\u001b[0m\u001b[0mfit\u001b[0m\u001b[0;34m(\u001b[0m\u001b[0mx_train\u001b[0m\u001b[0;34m,\u001b[0m \u001b[0my_train\u001b[0m\u001b[0;34m)\u001b[0m\u001b[0;34m\u001b[0m\u001b[0;34m\u001b[0m\u001b[0m\n",
      "\u001b[0;31mEOFError\u001b[0m: Ran out of input"
     ]
    }
   ],
   "source": [
    "strict_pickle_path = src_path / 'loose_pre_pipeline.pkl'\n",
    "file = open(loose_pickle_path, 'rb')\n",
    "saved_model = pickle.load(file)\n",
    "file.close()\n",
    "saved_model.fit(x_train, y_train)\n",
    "dtc = DecisionTreeClassifier()\n",
    "final_model = make_pipeline(saved_model, dtc)\n",
    "cross_val_score(final_model, x_train, y_train, cv = 5)"
   ]
  },
  {
   "cell_type": "code",
   "execution_count": null,
   "metadata": {},
   "outputs": [],
   "source": []
  }
 ],
 "metadata": {
  "kernelspec": {
   "display_name": "learn-env",
   "language": "python",
   "name": "learn-env"
  },
  "language_info": {
   "codemirror_mode": {
    "name": "ipython",
    "version": 3
   },
   "file_extension": ".py",
   "mimetype": "text/x-python",
   "name": "python",
   "nbconvert_exporter": "python",
   "pygments_lexer": "ipython3",
   "version": "3.8.3"
  }
 },
 "nbformat": 4,
 "nbformat_minor": 4
}
