{
 "cells": [
  {
   "cell_type": "markdown",
   "metadata": {},
   "source": [
    "# Tanzania Water Well Classification Project: Does it Need Repair?"
   ]
  },
  {
   "cell_type": "markdown",
   "metadata": {},
   "source": [
    "## **About**"
   ]
  },
  {
   "cell_type": "markdown",
   "metadata": {},
   "source": [
    "#### The purpose of this notebook is to share a summary of the methodology used during this project. Here you can find the goals of the project, what factors were taken into account during the Exploratory Data Analysis(EDA) phase, examples from the model building process, our final model and evaluation, and considerations and decisions taken along the way. "
   ]
  },
  {
   "cell_type": "markdown",
   "metadata": {},
   "source": [
    "### ***Poject Goals***"
   ]
  },
  {
   "cell_type": "markdown",
   "metadata": {},
   "source": [
    "#### The goal of this project is to build a classification model to know if a waterpump is in need of repair. \n",
    "\n",
    "#### The problem this project is addressing is access to water by way of community waterpoints. Access to water is an important issue that has reverberations in the social and economic aspects of a society. The [World Health Organization writes](https://www.who.int/news-room/fact-sheets/detail/drinking-water#:~:text=Safe%20and%20readily%20available%20water,contribute%20greatly%20to%20poverty%20reduction.), “Safe and readily available water is important for public health, whether it is used for drinking, domestic use, food production or recreational purposes. Improved water supply and sanitation, and better management of water resources, can boost countries’ economic growth and can contribute greatly to poverty reduction.” \n",
    "\n",
    "#### The water pumps we are looking at in our modeling are meant to provide potable water. If these water pumps fail, that community’s availability of drinking water is impacted. Reduced availability of working water pumps means an increased use of the functional ones, which could mean a reduction in that water pumps lifespan before it needs repairs. Being able to know which waterpoints need maintenance can help that community have a minimal interruption of service.\n",
    "\n",
    "#### This model will be used by the Tanzanian Ministry of Water to assess which water pumps need to be repaired. This model helps the goals of the Tanzanian Ministry of Water to provide access to water to its citizens. By knowing which water pumps need repairs, the Ministry of Water can implement better maintenance strategies. Moreover, this model and implementation of outcomes can help towards [The Tanzanian Development Vision 2025](https://mof.go.tz/mofdocs/overarch/vision2025.htm) to have universal access to safe water by the year 2025."
   ]
  },
  {
   "cell_type": "markdown",
   "metadata": {},
   "source": [
    "### ***The Data***"
   ]
  },
  {
   "cell_type": "markdown",
   "metadata": {},
   "source": [
    "#### The **data comes from** [Taarifa](http://taarifa.org/) who sources it from the [Tanzanian Ministry of Water](https://www.maji.go.tz/). The datasets were downloaded from [Driven Data’s “Pump it Up: Data Mining the Water Table”](https://www.drivendata.org/competitions/7/pump-it-up-data-mining-the-water-table/page/23/) competition.\n",
    "\n",
    "#### Our target is to classify the water pumps into one of three possible categories:\n",
    "1. `functional` - the waterpoint is operational and there are no repairs needed\n",
    "2. `functional needs repair` - the waterpoint is operational, but needs repairs\n",
    "3. `non functional` - the waterpoint is not operational\n"
   ]
  },
  {
   "cell_type": "markdown",
   "metadata": {},
   "source": [
    "## **Exploratory Data Analysis (EDA)**"
   ]
  },
  {
   "cell_type": "markdown",
   "metadata": {},
   "source": [
    "#### A few of the questions we explored before going into our modeling were:\n",
    "    - What features are available to us? Do we need all of them?\n",
    "    - What format are our features in? \n",
    "    - Are there missing values in our datasets? how will we account for those?"
   ]
  },
  {
   "cell_type": "code",
   "execution_count": 6,
   "metadata": {},
   "outputs": [],
   "source": [
    "import sys\n",
    "import pathlib\n",
    "src_path = pathlib.Path().absolute()/\"src\"\n",
    "sys.path.append(str(src_path))\n",
    "import data_functions\n",
    "import pandas as pd\n",
    "import numpy as np\n",
    "\n",
    "\n",
    "from sklearn.preprocessing import StandardScaler\n",
    "from sklearn.neighbors import KNeighborsClassifier\n",
    "from sklearn.model_selection import GridSearchCV\n",
    "from sklearn.ensemble import RandomForestClassifier\n",
    "from sklearn.linear_model import LogisticRegression\n",
    "from sklearn.pipeline import Pipeline\n",
    "from sklearn.impute import SimpleImputer\n",
    "from sklearn.tree import DecisionTreeClassifier\n",
    "from sklearn.preprocessing import OneHotEncoder\n",
    "import seaborn as sns\n",
    "import pickle\n",
    "\n",
    "import matplotlib.pyplot as plt\n",
    "\n",
    "from sklearn.model_selection import train_test_split\n",
    "from sklearn.metrics import classification_report\n",
    "from sklearn.metrics import plot_confusion_matrix"
   ]
  },
  {
   "cell_type": "code",
   "execution_count": 2,
   "metadata": {},
   "outputs": [],
   "source": [
    "# Import data to DataFrames\n",
    "data_path = pathlib.Path().absolute()/\"data\"\n",
    "x_train, x_test, y_train = data_functions.get_dataframes(data_path)"
   ]
  },
  {
   "cell_type": "markdown",
   "metadata": {},
   "source": [
    "First we want to take a look at our missing values. If we have any we want to know where they are, how many there are, and what problems we may have if we drop them. We also want to divide our data into numerical and categorical data. We will look at these different variable types respectively."
   ]
  },
  {
   "cell_type": "code",
   "execution_count": 3,
   "metadata": {},
   "outputs": [
    {
     "name": "stdout",
     "output_type": "stream",
     "text": [
      "amount_tsh           0\n",
      "gps_height           0\n",
      "longitude            0\n",
      "latitude             0\n",
      "num_private          0\n",
      "region_code          0\n",
      "district_code        0\n",
      "population           0\n",
      "construction_year    0\n",
      "dtype: int64\n",
      "date_recorded                0\n",
      "funder                    3635\n",
      "installer                 3655\n",
      "wpt_name                     0\n",
      "basin                        0\n",
      "subvillage                 371\n",
      "region                       0\n",
      "lga                          0\n",
      "ward                         0\n",
      "public_meeting            3334\n",
      "recorded_by                  0\n",
      "scheme_management         3877\n",
      "scheme_name              28166\n",
      "permit                    3056\n",
      "extraction_type              0\n",
      "extraction_type_group        0\n",
      "extraction_type_class        0\n",
      "management                   0\n",
      "management_group             0\n",
      "payment                      0\n",
      "payment_type                 0\n",
      "water_quality                0\n",
      "quality_group                0\n",
      "quantity                     0\n",
      "quantity_group               0\n",
      "source                       0\n",
      "source_type                  0\n",
      "source_class                 0\n",
      "waterpoint_type              0\n",
      "waterpoint_type_group        0\n",
      "dtype: int64\n"
     ]
    }
   ],
   "source": [
    "\n",
    "x_nums_train=x_train.select_dtypes(exclude=\"object\")\n",
    "x_cat_train= x_train.select_dtypes(include=\"object\")\n",
    "print(x_nums_train.isna().sum())\n",
    "print(x_cat_train.isna().sum())\n"
   ]
  },
  {
   "cell_type": "markdown",
   "metadata": {},
   "source": [
    "None of our numerical data contains any missing values, which is a great start. However our categorical data is missing a lot of information, which is going to be problematic when we go take our data to modeling. Fortunately for us when exploring our categorical data, none of the columns that are missing data, are any columns that we want to keep around. For example scheme name doesn't really provide our model any meaningful information when it comes to identifying what condition the wells are in. We also went through our categorical data and looked at value counts. Knowing that in the future we would need to OneHotEncode our categorical data we decided to only proceed with columns that would provide us with meaningful data, and also was not redudant. Another win for us is that in our final feature selection we ended up only with columns whose unique value counts were less than 10. Our final column feature dataframe after joining numerical variables back with categorical data had 207 columns. That's alot of columns, but still managable when fitting models."
   ]
  },
  {
   "cell_type": "code",
   "execution_count": 4,
   "metadata": {},
   "outputs": [
    {
     "data": {
      "text/plain": [
       "K                               682\n",
       "None                            644\n",
       "Borehole                        546\n",
       "Chalinze wate                   405\n",
       "M                               400\n",
       "                               ... \n",
       "Makondeko line                    1\n",
       "Heshivu water supply              1\n",
       "Pongwe Water Supply               1\n",
       "Uswa                              1\n",
       "Ibukoni kimanga water supply      1\n",
       "Name: scheme_name, Length: 2696, dtype: int64"
      ]
     },
     "execution_count": 4,
     "metadata": {},
     "output_type": "execute_result"
    }
   ],
   "source": [
    "x_cat_train.scheme_name.value_counts() "
   ]
  },
  {
   "cell_type": "code",
   "execution_count": 5,
   "metadata": {},
   "outputs": [
    {
     "data": {
      "text/plain": [
       "groundwater    45794\n",
       "surface        13328\n",
       "unknown          278\n",
       "Name: source_class, dtype: int64"
      ]
     },
     "execution_count": 5,
     "metadata": {},
     "output_type": "execute_result"
    }
   ],
   "source": [
    "x_cat_train.source_class.value_counts()"
   ]
  },
  {
   "cell_type": "markdown",
   "metadata": {},
   "source": [
    "## **Data Cleaning**"
   ]
  },
  {
   "cell_type": "markdown",
   "metadata": {},
   "source": [
    "Before we can begin modeling we first have to clean the data by dropping any features that aren't relevant to the modeling process as well as scalling numeric features and one hot encoding categorical features"
   ]
  },
  {
   "cell_type": "code",
   "execution_count": 3,
   "metadata": {},
   "outputs": [],
   "source": [
    "# Import data to DataFrames\n",
    "data_path = pathlib.Path().absolute()/\"data\"\n",
    "x_train, x_test, y_train = data_functions.get_dataframes(data_path)\n",
    "\n",
    "# Perform data preprocessing to improve modeling results\n",
    "x_train_pp, y_train_pp = data_functions.data_preprocessing(x_train, y_train)\n",
    "\n",
    "# Perform a train test split for validation after modeling\n",
    "x_tr_split, x_te_split, y_tr_split, y_te_split = train_test_split(x_train_pp, y_train_pp, random_state=2020)"
   ]
  },
  {
   "cell_type": "markdown",
   "metadata": {},
   "source": [
    "## **First Simple Model**"
   ]
  },
  {
   "cell_type": "code",
   "execution_count": 11,
   "metadata": {},
   "outputs": [
    {
     "name": "stdout",
     "output_type": "stream",
     "text": [
      "First simple random forest scored: 0.7830976430976431\n"
     ]
    }
   ],
   "source": [
    "#Import custom functions\n",
    "\n",
    "rfc = RandomForestClassifier()\n",
    "rfc.fit(x_tr_split, y_tr_split['status_group'])\n",
    "print(f'First simple random forest scored: {rfc.score(x_te_split, y_te_split)}')"
   ]
  },
  {
   "cell_type": "markdown",
   "metadata": {},
   "source": [
    "## **Initial Model Testing**"
   ]
  },
  {
   "cell_type": "code",
   "execution_count": 14,
   "metadata": {
    "scrolled": false
   },
   "outputs": [
    {
     "data": {
      "image/png": "[encoded data removed]",
      "text/plain": [
       "<Figure size 576x576 with 2 Axes>"
      ]
     },
     "metadata": {
      "needs_background": "light"
     },
     "output_type": "display_data"
    }
   ],
   "source": [
    "fig, ax= plt.subplots(figsize=(8,8))\n",
    "plot_confusion_matrix(rfc, x_te_split, y_te_split, ax = ax, cmap=plt.cm.Blues)\n",
    "plt.title('Predicted v. Actual', fontsize = 20)\n",
    "ax.grid(False)\n",
    "plt.xlabel('Predicted', fontsize = 18)\n",
    "plt.ylabel('Actual', fontsize = 18)\n",
    "plt.show()"
   ]
  },
  {
   "cell_type": "markdown",
   "metadata": {},
   "source": [
    "We can see from this confusion matrix that our model is very bad at predicting 'functional needs repair'"
   ]
  },
  {
   "cell_type": "markdown",
   "metadata": {},
   "source": [
    "### ***Random Forest Classifier***"
   ]
  },
  {
   "cell_type": "markdown",
   "metadata": {},
   "source": [
    "lets try to improve our random forest by adjusting some of the hyper-parameters"
   ]
  },
  {
   "cell_type": "code",
   "execution_count": 16,
   "metadata": {},
   "outputs": [
    {
     "name": "stdout",
     "output_type": "stream",
     "text": [
      "New random forest scored: 0.7830976430976431\n"
     ]
    }
   ],
   "source": [
    "rf_2=RandomForestClassifier(max_depth=25, max_features='sqrt', min_samples_split=7, n_estimators=200)\n",
    "rf_2.fit(x_tr_split, y_tr_split['status_group'])\n",
    "print(f'New random forest scored: {rfc.score(x_te_split, y_te_split)}')"
   ]
  },
  {
   "cell_type": "code",
   "execution_count": 17,
   "metadata": {},
   "outputs": [
    {
     "data": {
      "image/png": "[encoded data removed]",
      "text/plain": [
       "<Figure size 576x576 with 2 Axes>"
      ]
     },
     "metadata": {
      "needs_background": "light"
     },
     "output_type": "display_data"
    }
   ],
   "source": [
    "fig, ax= plt.subplots(figsize=(8,8))\n",
    "plot_confusion_matrix(rf_2, x_te_split, y_te_split, ax = ax, cmap=plt.cm.Blues)\n",
    "plt.title('Predicted v. Actual', fontsize = 20)\n",
    "ax.grid(False)\n",
    "plt.xlabel('Predicted', fontsize = 18)\n",
    "plt.ylabel('Actual', fontsize = 18)\n",
    "plt.show()"
   ]
  },
  {
   "cell_type": "markdown",
   "metadata": {},
   "source": [
    "this model actually performs worse than our first simple model"
   ]
  },
  {
   "cell_type": "markdown",
   "metadata": {},
   "source": [
    "### ***KNeighbor Classifier***"
   ]
  },
  {
   "cell_type": "code",
   "execution_count": 20,
   "metadata": {},
   "outputs": [
    {
     "name": "stdout",
     "output_type": "stream",
     "text": [
      "                         precision    recall  f1-score   support\n",
      "\n",
      "             functional       0.75      0.87      0.81      8010\n",
      "functional needs repair       0.55      0.24      0.33      1152\n",
      "         non functional       0.78      0.70      0.74      5688\n",
      "\n",
      "               accuracy                           0.75     14850\n",
      "              macro avg       0.69      0.60      0.63     14850\n",
      "           weighted avg       0.75      0.75      0.74     14850\n",
      "\n"
     ]
    }
   ],
   "source": [
    "kn3_2 = KNeighborsClassifier(n_neighbors = 15)\n",
    "kn3_2.fit(x_tr_split, y_tr_split['status_group'])\n",
    "y_pred_kn3_2=kn3_2.predict(x_te_split)\n",
    "print(classification_report(y_te_split, y_pred_kn3_2))"
   ]
  },
  {
   "cell_type": "code",
   "execution_count": 21,
   "metadata": {},
   "outputs": [
    {
     "data": {
      "image/png": "[encoded data removed]",
      "text/plain": [
       "<Figure size 576x576 with 2 Axes>"
      ]
     },
     "metadata": {
      "needs_background": "light"
     },
     "output_type": "display_data"
    }
   ],
   "source": [
    "fig, ax= plt.subplots(figsize=(8,8))\n",
    "plot_confusion_matrix(kn3_2, x_te_split, y_te_split, ax = ax, cmap=plt.cm.Blues)\n",
    "plt.title('Predicted v. Actual', fontsize = 20)\n",
    "ax.grid(False)\n",
    "plt.xlabel('Predicted', fontsize = 18)\n",
    "plt.ylabel('Actual', fontsize = 18)\n",
    "plt.show()"
   ]
  },
  {
   "cell_type": "code",
   "execution_count": 24,
   "metadata": {},
   "outputs": [
    {
     "name": "stdout",
     "output_type": "stream",
     "text": [
      "                         precision    recall  f1-score   support\n",
      "\n",
      "             functional       0.77      0.82      0.80      8010\n",
      "functional needs repair       0.42      0.35      0.38      1152\n",
      "         non functional       0.78      0.73      0.75      5688\n",
      "\n",
      "               accuracy                           0.75     14850\n",
      "              macro avg       0.66      0.63      0.64     14850\n",
      "           weighted avg       0.75      0.75      0.75     14850\n",
      "\n"
     ]
    }
   ],
   "source": [
    "#example of hypertuning, did not improve recall, only accuracy as may be expected\n",
    "kn3_5 = KNeighborsClassifier(n_neighbors = 3, weights = 'distance', p = 1, algorithm = 'brute')\n",
    "kn3_5.fit(x_tr_split, y_tr_split['status_group'])\n",
    "y_pred_kn3_5=kn3_5.predict(x_te_split)\n",
    "print(classification_report(y_te_split, y_pred_kn3_5))"
   ]
  },
  {
   "cell_type": "code",
   "execution_count": 25,
   "metadata": {},
   "outputs": [
    {
     "data": {
      "image/png": "[encoded data removed]",
      "text/plain": [
       "<Figure size 576x576 with 2 Axes>"
      ]
     },
     "metadata": {
      "needs_background": "light"
     },
     "output_type": "display_data"
    }
   ],
   "source": [
    "fig, ax= plt.subplots(figsize=(8,8))\n",
    "plot_confusion_matrix(kn3_5, x_te_split, y_te_split, ax = ax, cmap=plt.cm.Blues)\n",
    "plt.title('Predicted v. Actual', fontsize = 20)\n",
    "ax.grid(False)\n",
    "plt.xlabel('Predicted', fontsize = 18)\n",
    "plt.ylabel('Actual', fontsize = 18)\n",
    "plt.show()"
   ]
  },
  {
   "cell_type": "markdown",
   "metadata": {},
   "source": [
    "## **Rethinking Our Classes**"
   ]
  },
  {
   "cell_type": "markdown",
   "metadata": {},
   "source": [
    "After tesing various models and up-sampling techniques such as SMOTE, we were unable to reliably classify our minority class 'functional, needs repair'. Because of this we decided that the most important thing is to classify any well that needed repair and that combining 'functional, needs repair' and 'non-functional' would be an effective way to eliminate our minority class while still answering the fundamental question of which wells need repair and which wells are completely functional."
   ]
  },
  {
   "cell_type": "code",
   "execution_count": 4,
   "metadata": {},
   "outputs": [],
   "source": [
    "# creating a function that converts the 'functional' class to 1 and every other class to 0\n",
    "bin_y = lambda x: 1 if x == 'functional' else 0\n",
    "# apply the function to y_train and y_test\n",
    "y_tr_binned = pd.DataFrame(y_tr_split['status_group'].apply(bin_y), index = y_tr_split.index, columns = y_tr_split.columns)\n",
    "y_te_binned = pd.DataFrame(y_te_split['status_group'].apply(bin_y), index = y_te_split.index, columns = y_te_split.columns)"
   ]
  },
  {
   "cell_type": "markdown",
   "metadata": {},
   "source": [
    "## **Final Model**"
   ]
  },
  {
   "cell_type": "markdown",
   "metadata": {},
   "source": [
    "We came to our final model by grid searching with a random forest classifier. The best parameters found in the grid search were: max_features = 75, min_samples_leaf = 3, n_estimators = 200 "
   ]
  },
  {
   "cell_type": "code",
   "execution_count": 8,
   "metadata": {},
   "outputs": [],
   "source": [
    "# creating a RandomForestClassifier object with our best parameters\n",
    "final_model = RandomForestClassifier(max_features = 75, min_samples_leaf = 3, n_estimators = 200)"
   ]
  },
  {
   "cell_type": "code",
   "execution_count": 9,
   "metadata": {},
   "outputs": [
    {
     "data": {
      "text/plain": [
       "RandomForestClassifier(max_features=75, min_samples_leaf=3, n_estimators=200)"
      ]
     },
     "execution_count": 9,
     "metadata": {},
     "output_type": "execute_result"
    }
   ],
   "source": [
    "# Fitting our classifier on the training split\n",
    "final_model.fit(x_tr_split, y_tr_split['status_group'])"
   ]
  },
  {
   "cell_type": "code",
   "execution_count": 10,
   "metadata": {},
   "outputs": [
    {
     "data": {
      "text/plain": [
       "0.790976430976431"
      ]
     },
     "execution_count": 10,
     "metadata": {},
     "output_type": "execute_result"
    }
   ],
   "source": [
    "# Scoring our model's accuracy on the testing split\n",
    "final_model.score(x_te_split, y_te_split)"
   ]
  },
  {
   "cell_type": "markdown",
   "metadata": {},
   "source": [
    "## **Conclusion**"
   ]
  },
  {
   "cell_type": "markdown",
   "metadata": {},
   "source": [
    "Our final model was able to predict whether or not a well is in need of repair with an accuracy of 80.8%. The most important features in determining which class a well would fall into were the well altitude (gps_height in the data), the water point type, the contsruction year, and the size of the population that relies on that well. We think there is potential for improvement in our model by a small margin if we perhaps drop some of the least important features and adjust our pre-processing strategy to reduce data leakage, but we’ll likely only see a small increase in accuracy and recall as the data itself seems to have a significant bit of random noise."
   ]
  }
 ],
 "metadata": {
  "kernelspec": {
   "display_name": "Python [conda env:water_well-env] *",
   "language": "python",
   "name": "conda-env-water_well-env-py"
  },
  "language_info": {
   "codemirror_mode": {
    "name": "ipython",
    "version": 3
   },
   "file_extension": ".py",
   "mimetype": "text/x-python",
   "name": "python",
   "nbconvert_exporter": "python",
   "pygments_lexer": "ipython3",
   "version": "3.6.9"
  }
 },
 "nbformat": 4,
 "nbformat_minor": 4
}
